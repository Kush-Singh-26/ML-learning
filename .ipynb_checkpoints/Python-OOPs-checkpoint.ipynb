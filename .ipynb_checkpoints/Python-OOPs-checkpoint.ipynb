{
 "cells": [
  {
   "cell_type": "markdown",
   "id": "5222fe6c-d8e2-4f00-9619-5e26afd69e78",
   "metadata": {},
   "source": [
    "# Object Oriented Programming"
   ]
  },
  {
   "cell_type": "markdown",
   "id": "c5f15970-8766-4a66-88ff-dcdc24259f7f",
   "metadata": {},
   "source": [
    "#### OOP is a programming style that uses **objects** and **classes** to structure software programs.\n",
    "- organizes software design around data, or objects, rather than functions and logic.\n",
    "- ### An **object** can be defined as a data field that has unique attributes and behavior. "
   ]
  },
  {
   "cell_type": "markdown",
   "id": "a3dd774e-cfd9-4d4a-9a74-3c79f39ca506",
   "metadata": {},
   "source": [
    "## Class"
   ]
  },
  {
   "cell_type": "markdown",
   "id": "be42d2a4-bee9-4b38-945a-c6b57f4b6f6f",
   "metadata": {},
   "source": [
    "- blueprint for creating objects"
   ]
  },
  {
   "cell_type": "code",
   "execution_count": null,
   "id": "96d9e988-766e-4d43-afa0-e923d0f166f1",
   "metadata": {},
   "outputs": [],
   "source": []
  }
 ],
 "metadata": {
  "kernelspec": {
   "display_name": "Python 3 (ipykernel)",
   "language": "python",
   "name": "python3"
  },
  "language_info": {
   "codemirror_mode": {
    "name": "ipython",
    "version": 3
   },
   "file_extension": ".py",
   "mimetype": "text/x-python",
   "name": "python",
   "nbconvert_exporter": "python",
   "pygments_lexer": "ipython3",
   "version": "3.12.3"
  }
 },
 "nbformat": 4,
 "nbformat_minor": 5
}
