{
 "cells": [
  {
   "cell_type": "markdown",
   "id": "ab8c1de9-a344-44c1-9aa2-6d84cff83ab3",
   "metadata": {},
   "source": [
    "# OOPs 2"
   ]
  },
  {
   "cell_type": "markdown",
   "id": "441bcf16-4742-4530-9250-f82cb92afb6a",
   "metadata": {},
   "source": [
    "## `__init__` method"
   ]
  },
  {
   "cell_type": "markdown",
   "id": "9f375fff-2274-48d7-83b9-269429345272",
   "metadata": {},
   "source": [
    "- *initializer or constructor*\n",
    "- called automatically when a new instance of a class is created.\n",
    "- purpose is to initialize the instance's attributes with specific values"
   ]
  },
  {
   "cell_type": "markdown",
   "id": "a2c46f46-ec7c-49eb-8076-607af80dc96d",
   "metadata": {},
   "source": [
    "### `self` keyword:"
   ]
  },
  {
   "cell_type": "markdown",
   "id": "5de6842c-bc07-41a9-afe0-cc7c59cbed00",
   "metadata": {},
   "source": [
    "- reference to the current instance of the class\n",
    "-  It is used to access variables and methods associated with the current object, making it possible to work with the individual instance's data and methods."
   ]
  },
  {
   "cell_type": "markdown",
   "id": "5ccda4c1-0269-43ec-a5c8-c2f099ad2734",
   "metadata": {},
   "source": [
    "## Decorator"
   ]
  },
  {
   "cell_type": "markdown",
   "id": "3eee3cf9-6e82-4463-af92-ede224dbe4f5",
   "metadata": {},
   "source": [
    "- modify the behavior of functions or methods without permanently modifying their code\n",
    "- adding functionality to existing code in a clean and concise manner.\n",
    "- providing a simple syntax for calling higher-order functions.\n",
    "- a function that takes another function **(wrapper)** and extends its behavior without explicitly modifying it.\n",
    "- They are represented by the `@` symbol and are placed above the definition of a function or method."
   ]
  },
  {
   "cell_type": "code",
   "execution_count": 3,
   "id": "ec77ff37-3615-46ef-9589-d6324b08ee62",
   "metadata": {},
   "outputs": [
    {
     "name": "stdout",
     "output_type": "stream",
     "text": [
      "Something is happening before the function is called.\n",
      "Hello!\n",
      "Something is happening after the function is called.\n"
     ]
    }
   ],
   "source": [
    "def my_decorator(func):\n",
    "    def wrapper():\n",
    "        print(\"Something is happening before the function is called.\")\n",
    "        func()\n",
    "        print(\"Something is happening after the function is called.\")\n",
    "    return wrapper\n",
    "\n",
    "@my_decorator\n",
    "def say_hello():\n",
    "    print(\"Hello!\")\n",
    "\n",
    "say_hello()"
   ]
  },
  {
   "cell_type": "markdown",
   "id": "84f871b8-9ea7-4b74-b62f-47e1733a2827",
   "metadata": {},
   "source": [
    "In this example, `my_decorator` is a decorator that adds functionality to print messages before and after the `say_hello` function runs. The `say_hello` function is wrapped by the wrapper function defined inside `my_decorator`."
   ]
  },
  {
   "cell_type": "markdown",
   "id": "30d292a8-d327-4087-bcdd-4ac9e07f6da3",
   "metadata": {},
   "source": [
    "> Decorator with parameter"
   ]
  },
  {
   "cell_type": "code",
   "execution_count": 4,
   "id": "c3f22098-110c-4dcb-93dc-7961792530eb",
   "metadata": {},
   "outputs": [
    {
     "name": "stdout",
     "output_type": "stream",
     "text": [
      "Something is happening before the function is called.\n",
      "Hello, Alice!\n",
      "Something is happening after the function is called.\n"
     ]
    }
   ],
   "source": [
    "def my_decorator(func):\n",
    "    def wrapper(name):\n",
    "        print(\"Something is happening before the function is called.\")\n",
    "        func(name)\n",
    "        print(\"Something is happening after the function is called.\")\n",
    "    return wrapper\n",
    "\n",
    "@my_decorator\n",
    "def say_hello(name):\n",
    "    print(f\"Hello, {name}!\")\n",
    "\n",
    "say_hello(\"Alice\")"
   ]
  },
  {
   "cell_type": "markdown",
   "id": "1acc3b0c-3d84-42b2-8cd3-64cf2380df8b",
   "metadata": {},
   "source": [
    "## Alternate constructor"
   ]
  },
  {
   "cell_type": "markdown",
   "id": "f13405c5-6419-4150-81f3-f112cc966587",
   "metadata": {},
   "source": [
    "-  offer the flexibility to create instances from different data formats or sources\n",
    "-  Alternative constructors are implemented using class methods.\n",
    "-  typically start with `from_` in their names to indicate their purpose as constructors that instantiate objects from different data types or structures.\n",
    "-  The `@classmethod` decorator is used to define these methods, and they return an instance of the class."
   ]
  },
  {
   "cell_type": "code",
   "execution_count": 2,
   "id": "eb36eda5-8065-437e-ac52-b124c93c9449",
   "metadata": {},
   "outputs": [
    {
     "name": "stdout",
     "output_type": "stream",
     "text": [
      "Date1: 2024-3-2\n",
      "Date2: 2024-3-2\n"
     ]
    }
   ],
   "source": [
    "class Date:\n",
    "    def __init__(self, year, month, day):\n",
    "        self.year = year\n",
    "        self.month = month\n",
    "        self.day = day\n",
    "\n",
    "    @classmethod\n",
    "    def from_string(cls, date_as_string):\n",
    "        year, month, day = map(int, date_as_string.split('-'))\n",
    "        return cls(year, month, day)  # Creating a new instance using the class method\n",
    "\n",
    "# Default constructor\n",
    "date1 = Date(2024, 3, 2)\n",
    "\n",
    "# Alternative constructor\n",
    "date2 = Date.from_string(\"2024-03-02\")\n",
    "\n",
    "print(f\"Date1: {date1.year}-{date1.month}-{date1.day}\")\n",
    "print(f\"Date2: {date2.year}-{date2.month}-{date2.day}\")"
   ]
  },
  {
   "cell_type": "code",
   "execution_count": null,
   "id": "eeb4a34b-de7c-4365-a838-479b78548d4f",
   "metadata": {},
   "outputs": [],
   "source": []
  }
 ],
 "metadata": {
  "kernelspec": {
   "display_name": "Python 3 (ipykernel)",
   "language": "python",
   "name": "python3"
  },
  "language_info": {
   "codemirror_mode": {
    "name": "ipython",
    "version": 3
   },
   "file_extension": ".py",
   "mimetype": "text/x-python",
   "name": "python",
   "nbconvert_exporter": "python",
   "pygments_lexer": "ipython3",
   "version": "3.12.3"
  }
 },
 "nbformat": 4,
 "nbformat_minor": 5
}
