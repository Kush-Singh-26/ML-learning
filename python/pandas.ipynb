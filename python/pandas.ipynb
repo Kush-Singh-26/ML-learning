{
 "cells": [
  {
   "cell_type": "markdown",
   "id": "c798d007-4128-4461-8188-fce536eeeafe",
   "metadata": {},
   "source": [
    "# Pandas"
   ]
  },
  {
   "cell_type": "code",
   "execution_count": 5,
   "id": "9b7bebd1-fc2e-46f3-b5f9-ed4c28d024bf",
   "metadata": {},
   "outputs": [],
   "source": [
    "import pandas as pd"
   ]
  },
  {
   "cell_type": "code",
   "execution_count": 6,
   "id": "4c14b574-6f68-4b8a-b6ae-bd4f39728c6b",
   "metadata": {},
   "outputs": [],
   "source": [
    "import numpy as np"
   ]
  },
  {
   "cell_type": "markdown",
   "id": "7fd2d9f1-a582-4bb8-b855-0ab2c7ecc297",
   "metadata": {},
   "source": [
    ">Pandas provides three data structure - all of which are build on top of the NumPy array - all the data structures are value-mutable"
   ]
  },
  {
   "cell_type": "markdown",
   "id": "352dabaa-0149-4b92-b960-754ba0e90af9",
   "metadata": {},
   "source": [
    "- ***Series (1D)*** : labeled, homogenous array of immutable size\n",
    "- ***DataFrames (2D)*** : labeled, heterogeneously typed, size-mutable tabular data structures\n",
    "- ***Panels (3D)*** : Labeled, size-mutable array"
   ]
  },
  {
   "cell_type": "markdown",
   "id": "6a7d240b-f646-4cd8-b647-fe7014529a4b",
   "metadata": {},
   "source": [
    "## Series"
   ]
  },
  {
   "cell_type": "markdown",
   "id": "bab5e6e9-9164-4352-8b0f-bc55d5fe86b1",
   "metadata": {},
   "source": [
    "- single-dimensional array structures that stores homogenous data\n",
    "- All the elements of a Series are value-mutable and size-immutable\n",
    "- Data can be of multiple data types such as ndarray, lists, constants, series, dict etc."
   ]
  },
  {
   "cell_type": "code",
   "execution_count": 3,
   "id": "4e3c4505-a2ef-4ab9-9c44-ee25b9234e10",
   "metadata": {},
   "outputs": [
    {
     "data": {
      "text/plain": [
       "Series([], dtype: object)"
      ]
     },
     "execution_count": 3,
     "metadata": {},
     "output_type": "execute_result"
    }
   ],
   "source": [
    "series = pd.Series()\n",
    "series"
   ]
  },
  {
   "cell_type": "markdown",
   "id": "c385f39b-919c-4ca5-ac93-48092ab143a6",
   "metadata": {},
   "source": [
    "> series from ndarray"
   ]
  },
  {
   "cell_type": "code",
   "execution_count": 7,
   "id": "c50337b3-723c-4f18-9c1c-de9805c1c93a",
   "metadata": {},
   "outputs": [
    {
     "data": {
      "text/plain": [
       "array([10, 20, 30, 40, 50])"
      ]
     },
     "execution_count": 7,
     "metadata": {},
     "output_type": "execute_result"
    }
   ],
   "source": [
    "arr = np.array([10,20,30,40,50])\n",
    "arr"
   ]
  },
  {
   "cell_type": "code",
   "execution_count": 8,
   "id": "673fa24b-e74d-45f0-8a87-003a23322231",
   "metadata": {},
   "outputs": [
    {
     "data": {
      "text/plain": [
       "0    10\n",
       "1    20\n",
       "2    30\n",
       "3    40\n",
       "4    50\n",
       "dtype: int32"
      ]
     },
     "execution_count": 8,
     "metadata": {},
     "output_type": "execute_result"
    }
   ],
   "source": [
    "series1 = pd.Series(arr)\n",
    "series1"
   ]
  },
  {
   "cell_type": "markdown",
   "id": "b0b93bc3-b35d-489f-91c0-2983da2fad07",
   "metadata": {},
   "source": [
    "> Series from python dictionary"
   ]
  },
  {
   "cell_type": "code",
   "execution_count": 10,
   "id": "9be5b86f-99a9-4f4a-8c39-292ec5eb4c07",
   "metadata": {},
   "outputs": [
    {
     "data": {
      "text/plain": [
       "{'a': 10, 'b': 20, 'c': 30}"
      ]
     },
     "execution_count": 10,
     "metadata": {},
     "output_type": "execute_result"
    }
   ],
   "source": [
    "data = {'a' : 10, 'b' : 20, 'c' : 30}\n",
    "data"
   ]
  },
  {
   "cell_type": "code",
   "execution_count": 11,
   "id": "7c2f22a0-6c2a-4479-aac1-7ce9f0c9b3cb",
   "metadata": {},
   "outputs": [
    {
     "data": {
      "text/plain": [
       "a    10\n",
       "b    20\n",
       "c    30\n",
       "dtype: int64"
      ]
     },
     "execution_count": 11,
     "metadata": {},
     "output_type": "execute_result"
    }
   ],
   "source": [
    "series2 = pd.Series(data)\n",
    "series2"
   ]
  },
  {
   "cell_type": "code",
   "execution_count": 12,
   "id": "c348ae75-8af5-457e-a4b3-5928d8596686",
   "metadata": {},
   "outputs": [
    {
     "data": {
      "text/plain": [
       "1    20\n",
       "2    30\n",
       "3    40\n",
       "dtype: int32"
      ]
     },
     "execution_count": 12,
     "metadata": {},
     "output_type": "execute_result"
    }
   ],
   "source": [
    "series1[1:4]"
   ]
  },
  {
   "cell_type": "markdown",
   "id": "670ebd08-c643-4d08-bb7c-7126212adc19",
   "metadata": {},
   "source": [
    "---"
   ]
  },
  {
   "cell_type": "markdown",
   "id": "9889f705-67ee-4848-8b90-b73dc0dad782",
   "metadata": {},
   "source": [
    "## DataFrames"
   ]
  },
  {
   "cell_type": "markdown",
   "id": "9f8d3cbd-8b48-4606-ba81-18395a2e3f0a",
   "metadata": {},
   "source": [
    "-  2D data structure in which data is aligned in a tabular fashion consisting of rows & columns\n",
    "-  can be created using the following constructor : `pandas.DataFrame(data, index, dtype, copy)`\n",
    "-  Data can be of multiple data types such as ndarray, list, constants, series, dict etc."
   ]
  },
  {
   "cell_type": "markdown",
   "id": "12e7c3d0-1935-45a4-bb4d-b5386a06909d",
   "metadata": {},
   "source": [
    "> Creating a DataFrame from python list"
   ]
  },
  {
   "cell_type": "code",
   "execution_count": 13,
   "id": "4598d8d2-9b09-4be5-bbc4-efcb4d1db917",
   "metadata": {},
   "outputs": [
    {
     "data": {
      "text/html": [
       "<div>\n",
       "<style scoped>\n",
       "    .dataframe tbody tr th:only-of-type {\n",
       "        vertical-align: middle;\n",
       "    }\n",
       "\n",
       "    .dataframe tbody tr th {\n",
       "        vertical-align: top;\n",
       "    }\n",
       "\n",
       "    .dataframe thead th {\n",
       "        text-align: right;\n",
       "    }\n",
       "</style>\n",
       "<table border=\"1\" class=\"dataframe\">\n",
       "  <thead>\n",
       "    <tr style=\"text-align: right;\">\n",
       "      <th></th>\n",
       "      <th>0</th>\n",
       "    </tr>\n",
       "  </thead>\n",
       "  <tbody>\n",
       "    <tr>\n",
       "      <th>0</th>\n",
       "      <td>10</td>\n",
       "    </tr>\n",
       "    <tr>\n",
       "      <th>1</th>\n",
       "      <td>20</td>\n",
       "    </tr>\n",
       "    <tr>\n",
       "      <th>2</th>\n",
       "      <td>30</td>\n",
       "    </tr>\n",
       "    <tr>\n",
       "      <th>3</th>\n",
       "      <td>40</td>\n",
       "    </tr>\n",
       "    <tr>\n",
       "      <th>4</th>\n",
       "      <td>50</td>\n",
       "    </tr>\n",
       "  </tbody>\n",
       "</table>\n",
       "</div>"
      ],
      "text/plain": [
       "    0\n",
       "0  10\n",
       "1  20\n",
       "2  30\n",
       "3  40\n",
       "4  50"
      ]
     },
     "execution_count": 13,
     "metadata": {},
     "output_type": "execute_result"
    }
   ],
   "source": [
    "list1 = [10,20,30,40,50]\n",
    "table = pd.DataFrame(list1)\n",
    "table"
   ]
  },
  {
   "cell_type": "markdown",
   "id": "c488a36c-183b-41f4-846f-e0d9eab5cef2",
   "metadata": {},
   "source": [
    "> Creating DataFrame from list of dictionary"
   ]
  },
  {
   "cell_type": "code",
   "execution_count": 14,
   "id": "6a5641fc-93cd-4e62-b9fa-a2dc8c473b3a",
   "metadata": {},
   "outputs": [
    {
     "data": {
      "text/plain": [
       "[{'a': 1, 'b': 2}, {'a': 3, 'b': 4, 'c': 5}]"
      ]
     },
     "execution_count": 14,
     "metadata": {},
     "output_type": "execute_result"
    }
   ],
   "source": [
    "data = [{'a' : 1, 'b' : 2}, {'a' : 3, 'b' : 4, 'c' : 5}]\n",
    "data"
   ]
  },
  {
   "cell_type": "code",
   "execution_count": 19,
   "id": "af721a56-af77-4ff3-b5fe-73ebb407ce8b",
   "metadata": {},
   "outputs": [
    {
     "data": {
      "text/html": [
       "<div>\n",
       "<style scoped>\n",
       "    .dataframe tbody tr th:only-of-type {\n",
       "        vertical-align: middle;\n",
       "    }\n",
       "\n",
       "    .dataframe tbody tr th {\n",
       "        vertical-align: top;\n",
       "    }\n",
       "\n",
       "    .dataframe thead th {\n",
       "        text-align: right;\n",
       "    }\n",
       "</style>\n",
       "<table border=\"1\" class=\"dataframe\">\n",
       "  <thead>\n",
       "    <tr style=\"text-align: right;\">\n",
       "      <th></th>\n",
       "      <th>a</th>\n",
       "      <th>b</th>\n",
       "      <th>c</th>\n",
       "    </tr>\n",
       "  </thead>\n",
       "  <tbody>\n",
       "    <tr>\n",
       "      <th>0</th>\n",
       "      <td>1</td>\n",
       "      <td>2</td>\n",
       "      <td>NaN</td>\n",
       "    </tr>\n",
       "    <tr>\n",
       "      <th>1</th>\n",
       "      <td>3</td>\n",
       "      <td>4</td>\n",
       "      <td>5.0</td>\n",
       "    </tr>\n",
       "  </tbody>\n",
       "</table>\n",
       "</div>"
      ],
      "text/plain": [
       "   a  b    c\n",
       "0  1  2  NaN\n",
       "1  3  4  5.0"
      ]
     },
     "execution_count": 19,
     "metadata": {},
     "output_type": "execute_result"
    }
   ],
   "source": [
    "table = pd.DataFrame(data)\n",
    "table"
   ]
  },
  {
   "cell_type": "markdown",
   "id": "77484a2e-d6c4-4105-9d38-3d7b6f1eba97",
   "metadata": {},
   "source": [
    "- `NaN` : Not a Number is stored where there is no data"
   ]
  },
  {
   "cell_type": "markdown",
   "id": "ea98c3c0-1b96-4623-a500-b0848d5a88ae",
   "metadata": {},
   "source": [
    "> Adding indexes"
   ]
  },
  {
   "cell_type": "code",
   "execution_count": 23,
   "id": "8946a560-af25-4da5-b707-d113d6ba1e4e",
   "metadata": {},
   "outputs": [
    {
     "data": {
      "text/html": [
       "<div>\n",
       "<style scoped>\n",
       "    .dataframe tbody tr th:only-of-type {\n",
       "        vertical-align: middle;\n",
       "    }\n",
       "\n",
       "    .dataframe tbody tr th {\n",
       "        vertical-align: top;\n",
       "    }\n",
       "\n",
       "    .dataframe thead th {\n",
       "        text-align: right;\n",
       "    }\n",
       "</style>\n",
       "<table border=\"1\" class=\"dataframe\">\n",
       "  <thead>\n",
       "    <tr style=\"text-align: right;\">\n",
       "      <th></th>\n",
       "      <th>a</th>\n",
       "      <th>b</th>\n",
       "      <th>c</th>\n",
       "    </tr>\n",
       "  </thead>\n",
       "  <tbody>\n",
       "    <tr>\n",
       "      <th>first</th>\n",
       "      <td>1</td>\n",
       "      <td>2</td>\n",
       "      <td>NaN</td>\n",
       "    </tr>\n",
       "    <tr>\n",
       "      <th>second</th>\n",
       "      <td>3</td>\n",
       "      <td>4</td>\n",
       "      <td>5.0</td>\n",
       "    </tr>\n",
       "  </tbody>\n",
       "</table>\n",
       "</div>"
      ],
      "text/plain": [
       "        a  b    c\n",
       "first   1  2  NaN\n",
       "second  3  4  5.0"
      ]
     },
     "execution_count": 23,
     "metadata": {},
     "output_type": "execute_result"
    }
   ],
   "source": [
    "table2 = pd.DataFrame(data, index =['first' , 'second'])\n",
    "table2"
   ]
  },
  {
   "cell_type": "markdown",
   "id": "5fb227f4-19db-442e-ad82-ab87684385ef",
   "metadata": {},
   "source": [
    "> Converting dictionary of series into a DataFrame"
   ]
  },
  {
   "cell_type": "code",
   "execution_count": 24,
   "id": "6e00fa3a-1a9d-48df-aabe-66a41a1fc3af",
   "metadata": {},
   "outputs": [
    {
     "data": {
      "text/plain": [
       "{'one': a    1\n",
       " b    2\n",
       " c    3\n",
       " dtype: int64,\n",
       " 'two': a    1\n",
       " b    2\n",
       " c    3\n",
       " d    4\n",
       " dtype: int64}"
      ]
     },
     "execution_count": 24,
     "metadata": {},
     "output_type": "execute_result"
    }
   ],
   "source": [
    "data1 = {'one' : pd.Series([1,2,3], index = ['a', 'b', 'c']),\n",
    "         'two' : pd.Series([1,2,3,4], index = ['a', 'b', 'c', 'd'])}\n",
    "data1"
   ]
  },
  {
   "cell_type": "code",
   "execution_count": 25,
   "id": "55c7189e-9103-481c-ad56-cf72102d71cd",
   "metadata": {},
   "outputs": [
    {
     "data": {
      "text/html": [
       "<div>\n",
       "<style scoped>\n",
       "    .dataframe tbody tr th:only-of-type {\n",
       "        vertical-align: middle;\n",
       "    }\n",
       "\n",
       "    .dataframe tbody tr th {\n",
       "        vertical-align: top;\n",
       "    }\n",
       "\n",
       "    .dataframe thead th {\n",
       "        text-align: right;\n",
       "    }\n",
       "</style>\n",
       "<table border=\"1\" class=\"dataframe\">\n",
       "  <thead>\n",
       "    <tr style=\"text-align: right;\">\n",
       "      <th></th>\n",
       "      <th>one</th>\n",
       "      <th>two</th>\n",
       "    </tr>\n",
       "  </thead>\n",
       "  <tbody>\n",
       "    <tr>\n",
       "      <th>a</th>\n",
       "      <td>1.0</td>\n",
       "      <td>1</td>\n",
       "    </tr>\n",
       "    <tr>\n",
       "      <th>b</th>\n",
       "      <td>2.0</td>\n",
       "      <td>2</td>\n",
       "    </tr>\n",
       "    <tr>\n",
       "      <th>c</th>\n",
       "      <td>3.0</td>\n",
       "      <td>3</td>\n",
       "    </tr>\n",
       "    <tr>\n",
       "      <th>d</th>\n",
       "      <td>NaN</td>\n",
       "      <td>4</td>\n",
       "    </tr>\n",
       "  </tbody>\n",
       "</table>\n",
       "</div>"
      ],
      "text/plain": [
       "   one  two\n",
       "a  1.0    1\n",
       "b  2.0    2\n",
       "c  3.0    3\n",
       "d  NaN    4"
      ]
     },
     "execution_count": 25,
     "metadata": {},
     "output_type": "execute_result"
    }
   ],
   "source": [
    "table3 = pd.DataFrame(data1)\n",
    "table3"
   ]
  },
  {
   "cell_type": "markdown",
   "id": "98b9f2d3-9fd9-49d7-a946-f076b95350ec",
   "metadata": {},
   "source": [
    "- the resultant index is the union of all the series indexes passed"
   ]
  },
  {
   "cell_type": "markdown",
   "id": "0724603f-84d9-41f8-be6f-71e31f71af1a",
   "metadata": {},
   "source": [
    "> Addition of columns: "
   ]
  },
  {
   "cell_type": "code",
   "execution_count": 26,
   "id": "34958ff4-1d43-4591-a17c-dc20ca534ccd",
   "metadata": {},
   "outputs": [
    {
     "data": {
      "text/html": [
       "<div>\n",
       "<style scoped>\n",
       "    .dataframe tbody tr th:only-of-type {\n",
       "        vertical-align: middle;\n",
       "    }\n",
       "\n",
       "    .dataframe tbody tr th {\n",
       "        vertical-align: top;\n",
       "    }\n",
       "\n",
       "    .dataframe thead th {\n",
       "        text-align: right;\n",
       "    }\n",
       "</style>\n",
       "<table border=\"1\" class=\"dataframe\">\n",
       "  <thead>\n",
       "    <tr style=\"text-align: right;\">\n",
       "      <th></th>\n",
       "      <th>one</th>\n",
       "      <th>two</th>\n",
       "      <th>three</th>\n",
       "    </tr>\n",
       "  </thead>\n",
       "  <tbody>\n",
       "    <tr>\n",
       "      <th>a</th>\n",
       "      <td>1.0</td>\n",
       "      <td>1</td>\n",
       "      <td>10.0</td>\n",
       "    </tr>\n",
       "    <tr>\n",
       "      <th>b</th>\n",
       "      <td>2.0</td>\n",
       "      <td>2</td>\n",
       "      <td>20.0</td>\n",
       "    </tr>\n",
       "    <tr>\n",
       "      <th>c</th>\n",
       "      <td>3.0</td>\n",
       "      <td>3</td>\n",
       "      <td>30.0</td>\n",
       "    </tr>\n",
       "    <tr>\n",
       "      <th>d</th>\n",
       "      <td>NaN</td>\n",
       "      <td>4</td>\n",
       "      <td>NaN</td>\n",
       "    </tr>\n",
       "  </tbody>\n",
       "</table>\n",
       "</div>"
      ],
      "text/plain": [
       "   one  two  three\n",
       "a  1.0    1   10.0\n",
       "b  2.0    2   20.0\n",
       "c  3.0    3   30.0\n",
       "d  NaN    4    NaN"
      ]
     },
     "execution_count": 26,
     "metadata": {},
     "output_type": "execute_result"
    }
   ],
   "source": [
    "table3['three'] = pd.Series([10,20,30], index = ['a', 'b', 'c'])\n",
    "table3"
   ]
  },
  {
   "cell_type": "markdown",
   "id": "65220427-77a9-498e-9da8-a7deeb40858c",
   "metadata": {},
   "source": [
    "> Deleting table columns "
   ]
  },
  {
   "cell_type": "code",
   "execution_count": 27,
   "id": "b3b48e5b-4c39-4b63-ac1d-8d3577544f35",
   "metadata": {},
   "outputs": [
    {
     "data": {
      "text/html": [
       "<div>\n",
       "<style scoped>\n",
       "    .dataframe tbody tr th:only-of-type {\n",
       "        vertical-align: middle;\n",
       "    }\n",
       "\n",
       "    .dataframe tbody tr th {\n",
       "        vertical-align: top;\n",
       "    }\n",
       "\n",
       "    .dataframe thead th {\n",
       "        text-align: right;\n",
       "    }\n",
       "</style>\n",
       "<table border=\"1\" class=\"dataframe\">\n",
       "  <thead>\n",
       "    <tr style=\"text-align: right;\">\n",
       "      <th></th>\n",
       "      <th>one</th>\n",
       "      <th>three</th>\n",
       "    </tr>\n",
       "  </thead>\n",
       "  <tbody>\n",
       "    <tr>\n",
       "      <th>a</th>\n",
       "      <td>1.0</td>\n",
       "      <td>10.0</td>\n",
       "    </tr>\n",
       "    <tr>\n",
       "      <th>b</th>\n",
       "      <td>2.0</td>\n",
       "      <td>20.0</td>\n",
       "    </tr>\n",
       "    <tr>\n",
       "      <th>c</th>\n",
       "      <td>3.0</td>\n",
       "      <td>30.0</td>\n",
       "    </tr>\n",
       "    <tr>\n",
       "      <th>d</th>\n",
       "      <td>NaN</td>\n",
       "      <td>NaN</td>\n",
       "    </tr>\n",
       "  </tbody>\n",
       "</table>\n",
       "</div>"
      ],
      "text/plain": [
       "   one  three\n",
       "a  1.0   10.0\n",
       "b  2.0   20.0\n",
       "c  3.0   30.0\n",
       "d  NaN    NaN"
      ]
     },
     "execution_count": 27,
     "metadata": {},
     "output_type": "execute_result"
    }
   ],
   "source": [
    "del table3['two']\n",
    "table3"
   ]
  },
  {
   "cell_type": "code",
   "execution_count": 28,
   "id": "2d6be2aa-b521-44e3-a6a0-cb4d00a5e8a2",
   "metadata": {},
   "outputs": [
    {
     "data": {
      "text/html": [
       "<div>\n",
       "<style scoped>\n",
       "    .dataframe tbody tr th:only-of-type {\n",
       "        vertical-align: middle;\n",
       "    }\n",
       "\n",
       "    .dataframe tbody tr th {\n",
       "        vertical-align: top;\n",
       "    }\n",
       "\n",
       "    .dataframe thead th {\n",
       "        text-align: right;\n",
       "    }\n",
       "</style>\n",
       "<table border=\"1\" class=\"dataframe\">\n",
       "  <thead>\n",
       "    <tr style=\"text-align: right;\">\n",
       "      <th></th>\n",
       "      <th>one</th>\n",
       "    </tr>\n",
       "  </thead>\n",
       "  <tbody>\n",
       "    <tr>\n",
       "      <th>a</th>\n",
       "      <td>1.0</td>\n",
       "    </tr>\n",
       "    <tr>\n",
       "      <th>b</th>\n",
       "      <td>2.0</td>\n",
       "    </tr>\n",
       "    <tr>\n",
       "      <th>c</th>\n",
       "      <td>3.0</td>\n",
       "    </tr>\n",
       "    <tr>\n",
       "      <th>d</th>\n",
       "      <td>NaN</td>\n",
       "    </tr>\n",
       "  </tbody>\n",
       "</table>\n",
       "</div>"
      ],
      "text/plain": [
       "   one\n",
       "a  1.0\n",
       "b  2.0\n",
       "c  3.0\n",
       "d  NaN"
      ]
     },
     "execution_count": 28,
     "metadata": {},
     "output_type": "execute_result"
    }
   ],
   "source": [
    "table3.pop('three')\n",
    "table3"
   ]
  },
  {
   "cell_type": "markdown",
   "id": "c334fc23-fc31-43fa-a18e-b5263c3927cc",
   "metadata": {},
   "source": [
    "> Addition of rows"
   ]
  },
  {
   "cell_type": "markdown",
   "id": "04067080-e81d-40e2-a4ba-2679b905b5a6",
   "metadata": {},
   "source": [
    "- selecting row : `loc()` function , passing *row label*"
   ]
  },
  {
   "cell_type": "code",
   "execution_count": 29,
   "id": "69bd6698-db86-4b89-9001-d30411fb67cc",
   "metadata": {},
   "outputs": [
    {
     "data": {
      "text/plain": [
       "one    3.0\n",
       "Name: c, dtype: float64"
      ]
     },
     "execution_count": 29,
     "metadata": {},
     "output_type": "execute_result"
    }
   ],
   "source": [
    "table3.loc['c']"
   ]
  },
  {
   "cell_type": "markdown",
   "id": "b1143641-a074-450e-b12c-feb27c9a1602",
   "metadata": {},
   "source": [
    "- selecting row : `iloc()`, passing row index"
   ]
  },
  {
   "cell_type": "code",
   "execution_count": 35,
   "id": "b2f6ae30-04e6-4092-ae0c-f1905aa1635c",
   "metadata": {},
   "outputs": [
    {
     "data": {
      "text/plain": [
       "one    3.0\n",
       "Name: c, dtype: float64"
      ]
     },
     "execution_count": 35,
     "metadata": {},
     "output_type": "execute_result"
    }
   ],
   "source": [
    "table3.iloc[2]"
   ]
  },
  {
   "cell_type": "code",
   "execution_count": 32,
   "id": "86cd43b7-d464-4fbb-94ad-b9acd2c74f35",
   "metadata": {},
   "outputs": [
    {
     "data": {
      "text/plain": [
       "{'one': a    1\n",
       " b    2\n",
       " c    3\n",
       " dtype: int64,\n",
       " 'two': a    1\n",
       " b    2\n",
       " c    3\n",
       " d    4\n",
       " dtype: int64}"
      ]
     },
     "execution_count": 32,
     "metadata": {},
     "output_type": "execute_result"
    }
   ],
   "source": [
    "data2 = {'one':pd.Series([1,2,3], index = ['a', 'b', 'c']),\n",
    "        'two':pd.Series([1,2,3,4], index = ['a', 'b', 'c', 'd'])}\n",
    "data2"
   ]
  },
  {
   "cell_type": "code",
   "execution_count": 34,
   "id": "8a607391-4dbf-4bd8-8615-4bf79ebd6df4",
   "metadata": {},
   "outputs": [
    {
     "data": {
      "text/html": [
       "<div>\n",
       "<style scoped>\n",
       "    .dataframe tbody tr th:only-of-type {\n",
       "        vertical-align: middle;\n",
       "    }\n",
       "\n",
       "    .dataframe tbody tr th {\n",
       "        vertical-align: top;\n",
       "    }\n",
       "\n",
       "    .dataframe thead th {\n",
       "        text-align: right;\n",
       "    }\n",
       "</style>\n",
       "<table border=\"1\" class=\"dataframe\">\n",
       "  <thead>\n",
       "    <tr style=\"text-align: right;\">\n",
       "      <th></th>\n",
       "      <th>one</th>\n",
       "      <th>two</th>\n",
       "    </tr>\n",
       "  </thead>\n",
       "  <tbody>\n",
       "    <tr>\n",
       "      <th>a</th>\n",
       "      <td>1.0</td>\n",
       "      <td>1</td>\n",
       "    </tr>\n",
       "    <tr>\n",
       "      <th>b</th>\n",
       "      <td>2.0</td>\n",
       "      <td>2</td>\n",
       "    </tr>\n",
       "    <tr>\n",
       "      <th>c</th>\n",
       "      <td>3.0</td>\n",
       "      <td>3</td>\n",
       "    </tr>\n",
       "    <tr>\n",
       "      <th>d</th>\n",
       "      <td>NaN</td>\n",
       "      <td>4</td>\n",
       "    </tr>\n",
       "  </tbody>\n",
       "</table>\n",
       "</div>"
      ],
      "text/plain": [
       "   one  two\n",
       "a  1.0    1\n",
       "b  2.0    2\n",
       "c  3.0    3\n",
       "d  NaN    4"
      ]
     },
     "execution_count": 34,
     "metadata": {},
     "output_type": "execute_result"
    }
   ],
   "source": [
    "table4 = pd.DataFrame(data2)\n",
    "table4"
   ]
  },
  {
   "cell_type": "code",
   "execution_count": 37,
   "id": "add13f49-a24f-4dd4-8d7f-8c4ec6d6abd8",
   "metadata": {},
   "outputs": [
    {
     "data": {
      "text/html": [
       "<div>\n",
       "<style scoped>\n",
       "    .dataframe tbody tr th:only-of-type {\n",
       "        vertical-align: middle;\n",
       "    }\n",
       "\n",
       "    .dataframe tbody tr th {\n",
       "        vertical-align: top;\n",
       "    }\n",
       "\n",
       "    .dataframe thead th {\n",
       "        text-align: right;\n",
       "    }\n",
       "</style>\n",
       "<table border=\"1\" class=\"dataframe\">\n",
       "  <thead>\n",
       "    <tr style=\"text-align: right;\">\n",
       "      <th></th>\n",
       "      <th>one</th>\n",
       "      <th>two</th>\n",
       "      <th>three</th>\n",
       "    </tr>\n",
       "  </thead>\n",
       "  <tbody>\n",
       "    <tr>\n",
       "      <th>a</th>\n",
       "      <td>1.0</td>\n",
       "      <td>1</td>\n",
       "      <td>10.0</td>\n",
       "    </tr>\n",
       "    <tr>\n",
       "      <th>b</th>\n",
       "      <td>2.0</td>\n",
       "      <td>2</td>\n",
       "      <td>20.0</td>\n",
       "    </tr>\n",
       "    <tr>\n",
       "      <th>c</th>\n",
       "      <td>3.0</td>\n",
       "      <td>3</td>\n",
       "      <td>30.0</td>\n",
       "    </tr>\n",
       "    <tr>\n",
       "      <th>d</th>\n",
       "      <td>NaN</td>\n",
       "      <td>4</td>\n",
       "      <td>NaN</td>\n",
       "    </tr>\n",
       "  </tbody>\n",
       "</table>\n",
       "</div>"
      ],
      "text/plain": [
       "   one  two  three\n",
       "a  1.0    1   10.0\n",
       "b  2.0    2   20.0\n",
       "c  3.0    3   30.0\n",
       "d  NaN    4    NaN"
      ]
     },
     "execution_count": 37,
     "metadata": {},
     "output_type": "execute_result"
    }
   ],
   "source": [
    "table4['three'] = pd.Series([10,20,30], index = ['a', 'b', 'c'])\n",
    "table4"
   ]
  },
  {
   "cell_type": "markdown",
   "id": "aef57b80-5f01-4c5f-a2d6-6dd02a57fd1e",
   "metadata": {},
   "source": [
    "> Using `concat` funtion to add multiple rows"
   ]
  },
  {
   "cell_type": "code",
   "execution_count": 41,
   "id": "2052274e-2cab-48b9-856b-facab340950c",
   "metadata": {},
   "outputs": [
    {
     "data": {
      "text/html": [
       "<div>\n",
       "<style scoped>\n",
       "    .dataframe tbody tr th:only-of-type {\n",
       "        vertical-align: middle;\n",
       "    }\n",
       "\n",
       "    .dataframe tbody tr th {\n",
       "        vertical-align: top;\n",
       "    }\n",
       "\n",
       "    .dataframe thead th {\n",
       "        text-align: right;\n",
       "    }\n",
       "</style>\n",
       "<table border=\"1\" class=\"dataframe\">\n",
       "  <thead>\n",
       "    <tr style=\"text-align: right;\">\n",
       "      <th></th>\n",
       "      <th>one</th>\n",
       "      <th>two</th>\n",
       "      <th>three</th>\n",
       "    </tr>\n",
       "  </thead>\n",
       "  <tbody>\n",
       "    <tr>\n",
       "      <th>a</th>\n",
       "      <td>1.0</td>\n",
       "      <td>1</td>\n",
       "      <td>10.0</td>\n",
       "    </tr>\n",
       "    <tr>\n",
       "      <th>b</th>\n",
       "      <td>2.0</td>\n",
       "      <td>2</td>\n",
       "      <td>20.0</td>\n",
       "    </tr>\n",
       "    <tr>\n",
       "      <th>c</th>\n",
       "      <td>3.0</td>\n",
       "      <td>3</td>\n",
       "      <td>30.0</td>\n",
       "    </tr>\n",
       "    <tr>\n",
       "      <th>d</th>\n",
       "      <td>NaN</td>\n",
       "      <td>4</td>\n",
       "      <td>NaN</td>\n",
       "    </tr>\n",
       "    <tr>\n",
       "      <th>0</th>\n",
       "      <td>NaN</td>\n",
       "      <td>11</td>\n",
       "      <td>13.0</td>\n",
       "    </tr>\n",
       "    <tr>\n",
       "      <th>1</th>\n",
       "      <td>NaN</td>\n",
       "      <td>17</td>\n",
       "      <td>19.0</td>\n",
       "    </tr>\n",
       "  </tbody>\n",
       "</table>\n",
       "</div>"
      ],
      "text/plain": [
       "   one  two  three\n",
       "a  1.0    1   10.0\n",
       "b  2.0    2   20.0\n",
       "c  3.0    3   30.0\n",
       "d  NaN    4    NaN\n",
       "0  NaN   11   13.0\n",
       "1  NaN   17   19.0"
      ]
     },
     "execution_count": 41,
     "metadata": {},
     "output_type": "execute_result"
    }
   ],
   "source": [
    "row = pd.DataFrame([[11,13],[17,19]], columns = ['two', 'three'])\n",
    "table5= pd.concat([table4,row])\n",
    "table5"
   ]
  },
  {
   "cell_type": "markdown",
   "id": "b62fdbbd-90c7-4624-98a5-44b83b530945",
   "metadata": {},
   "source": [
    "> `drop` to remove rows , by passing label of rows to be removed"
   ]
  },
  {
   "cell_type": "code",
   "execution_count": 42,
   "id": "0b6d41dc-6fa0-4146-87bd-5923b04011ac",
   "metadata": {},
   "outputs": [
    {
     "data": {
      "text/html": [
       "<div>\n",
       "<style scoped>\n",
       "    .dataframe tbody tr th:only-of-type {\n",
       "        vertical-align: middle;\n",
       "    }\n",
       "\n",
       "    .dataframe tbody tr th {\n",
       "        vertical-align: top;\n",
       "    }\n",
       "\n",
       "    .dataframe thead th {\n",
       "        text-align: right;\n",
       "    }\n",
       "</style>\n",
       "<table border=\"1\" class=\"dataframe\">\n",
       "  <thead>\n",
       "    <tr style=\"text-align: right;\">\n",
       "      <th></th>\n",
       "      <th>one</th>\n",
       "      <th>two</th>\n",
       "      <th>three</th>\n",
       "    </tr>\n",
       "  </thead>\n",
       "  <tbody>\n",
       "    <tr>\n",
       "      <th>b</th>\n",
       "      <td>2.0</td>\n",
       "      <td>2</td>\n",
       "      <td>20.0</td>\n",
       "    </tr>\n",
       "    <tr>\n",
       "      <th>c</th>\n",
       "      <td>3.0</td>\n",
       "      <td>3</td>\n",
       "      <td>30.0</td>\n",
       "    </tr>\n",
       "    <tr>\n",
       "      <th>d</th>\n",
       "      <td>NaN</td>\n",
       "      <td>4</td>\n",
       "      <td>NaN</td>\n",
       "    </tr>\n",
       "    <tr>\n",
       "      <th>0</th>\n",
       "      <td>NaN</td>\n",
       "      <td>11</td>\n",
       "      <td>13.0</td>\n",
       "    </tr>\n",
       "    <tr>\n",
       "      <th>1</th>\n",
       "      <td>NaN</td>\n",
       "      <td>17</td>\n",
       "      <td>19.0</td>\n",
       "    </tr>\n",
       "  </tbody>\n",
       "</table>\n",
       "</div>"
      ],
      "text/plain": [
       "   one  two  three\n",
       "b  2.0    2   20.0\n",
       "c  3.0    3   30.0\n",
       "d  NaN    4    NaN\n",
       "0  NaN   11   13.0\n",
       "1  NaN   17   19.0"
      ]
     },
     "execution_count": 42,
     "metadata": {},
     "output_type": "execute_result"
    }
   ],
   "source": [
    "table6 = table5.drop('a')\n",
    "table6"
   ]
  },
  {
   "cell_type": "markdown",
   "id": "c7937ffb-3735-4ab6-8f82-a703c180b1f3",
   "metadata": {},
   "source": [
    "---"
   ]
  },
  {
   "cell_type": "markdown",
   "id": "6e2fad34-ddde-42ce-84cb-c4afb6d41a15",
   "metadata": {},
   "source": [
    "## File reading"
   ]
  },
  {
   "cell_type": "code",
   "execution_count": 58,
   "id": "17f9b7f3-9472-4792-bd14-5a77cec61445",
   "metadata": {},
   "outputs": [
    {
     "data": {
      "text/html": [
       "<div>\n",
       "<style scoped>\n",
       "    .dataframe tbody tr th:only-of-type {\n",
       "        vertical-align: middle;\n",
       "    }\n",
       "\n",
       "    .dataframe tbody tr th {\n",
       "        vertical-align: top;\n",
       "    }\n",
       "\n",
       "    .dataframe thead th {\n",
       "        text-align: right;\n",
       "    }\n",
       "</style>\n",
       "<table border=\"1\" class=\"dataframe\">\n",
       "  <thead>\n",
       "    <tr style=\"text-align: right;\">\n",
       "      <th></th>\n",
       "      <th>Make</th>\n",
       "      <th>Model</th>\n",
       "      <th>Type</th>\n",
       "      <th>LowPrice</th>\n",
       "      <th>HighPrice</th>\n",
       "      <th>Drive</th>\n",
       "      <th>CityMPG</th>\n",
       "      <th>HwyMPG</th>\n",
       "      <th>FuelCap</th>\n",
       "      <th>Length</th>\n",
       "      <th>Width</th>\n",
       "      <th>Wheelbase</th>\n",
       "      <th>Height</th>\n",
       "      <th>UTurn</th>\n",
       "      <th>Weight</th>\n",
       "      <th>Acc030</th>\n",
       "      <th>Acc060</th>\n",
       "      <th>QtrMile</th>\n",
       "      <th>PageNum</th>\n",
       "      <th>Size</th>\n",
       "    </tr>\n",
       "  </thead>\n",
       "  <tbody>\n",
       "    <tr>\n",
       "      <th>0</th>\n",
       "      <td>Chevrolet</td>\n",
       "      <td>Spark</td>\n",
       "      <td>Hatchback</td>\n",
       "      <td>12.270</td>\n",
       "      <td>25.560</td>\n",
       "      <td>FWD</td>\n",
       "      <td>30</td>\n",
       "      <td>39</td>\n",
       "      <td>9.0</td>\n",
       "      <td>145</td>\n",
       "      <td>63</td>\n",
       "      <td>94</td>\n",
       "      <td>61</td>\n",
       "      <td>34</td>\n",
       "      <td>2345</td>\n",
       "      <td>4.4</td>\n",
       "      <td>12.8</td>\n",
       "      <td>19.4</td>\n",
       "      <td>123</td>\n",
       "      <td>Small</td>\n",
       "    </tr>\n",
       "    <tr>\n",
       "      <th>1</th>\n",
       "      <td>Hyundai</td>\n",
       "      <td>Accent</td>\n",
       "      <td>Hatchback</td>\n",
       "      <td>14.745</td>\n",
       "      <td>17.495</td>\n",
       "      <td>FWD</td>\n",
       "      <td>28</td>\n",
       "      <td>37</td>\n",
       "      <td>11.4</td>\n",
       "      <td>172</td>\n",
       "      <td>67</td>\n",
       "      <td>101</td>\n",
       "      <td>57</td>\n",
       "      <td>37</td>\n",
       "      <td>2550</td>\n",
       "      <td>3.7</td>\n",
       "      <td>10.3</td>\n",
       "      <td>17.8</td>\n",
       "      <td>148</td>\n",
       "      <td>Small</td>\n",
       "    </tr>\n",
       "    <tr>\n",
       "      <th>2</th>\n",
       "      <td>Kia</td>\n",
       "      <td>Rio</td>\n",
       "      <td>Sedan</td>\n",
       "      <td>13.990</td>\n",
       "      <td>18.290</td>\n",
       "      <td>FWD</td>\n",
       "      <td>28</td>\n",
       "      <td>36</td>\n",
       "      <td>11.3</td>\n",
       "      <td>172</td>\n",
       "      <td>68</td>\n",
       "      <td>101</td>\n",
       "      <td>57</td>\n",
       "      <td>37</td>\n",
       "      <td>2575</td>\n",
       "      <td>3.5</td>\n",
       "      <td>9.5</td>\n",
       "      <td>17.3</td>\n",
       "      <td>163</td>\n",
       "      <td>Small</td>\n",
       "    </tr>\n",
       "    <tr>\n",
       "      <th>3</th>\n",
       "      <td>Mitsubishi</td>\n",
       "      <td>Mirage</td>\n",
       "      <td>Hatchback</td>\n",
       "      <td>12.995</td>\n",
       "      <td>15.395</td>\n",
       "      <td>FWD</td>\n",
       "      <td>37</td>\n",
       "      <td>44</td>\n",
       "      <td>9.2</td>\n",
       "      <td>149</td>\n",
       "      <td>66</td>\n",
       "      <td>97</td>\n",
       "      <td>59</td>\n",
       "      <td>32</td>\n",
       "      <td>2085</td>\n",
       "      <td>4.4</td>\n",
       "      <td>12.1</td>\n",
       "      <td>19.0</td>\n",
       "      <td>188</td>\n",
       "      <td>Small</td>\n",
       "    </tr>\n",
       "    <tr>\n",
       "      <th>4</th>\n",
       "      <td>Nissan</td>\n",
       "      <td>Versa Note</td>\n",
       "      <td>Hatchback</td>\n",
       "      <td>14.180</td>\n",
       "      <td>17.960</td>\n",
       "      <td>FWD</td>\n",
       "      <td>31</td>\n",
       "      <td>40</td>\n",
       "      <td>10.9</td>\n",
       "      <td>164</td>\n",
       "      <td>67</td>\n",
       "      <td>102</td>\n",
       "      <td>61</td>\n",
       "      <td>37</td>\n",
       "      <td>2470</td>\n",
       "      <td>4.0</td>\n",
       "      <td>10.9</td>\n",
       "      <td>18.2</td>\n",
       "      <td>196</td>\n",
       "      <td>Small</td>\n",
       "    </tr>\n",
       "    <tr>\n",
       "      <th>...</th>\n",
       "      <td>...</td>\n",
       "      <td>...</td>\n",
       "      <td>...</td>\n",
       "      <td>...</td>\n",
       "      <td>...</td>\n",
       "      <td>...</td>\n",
       "      <td>...</td>\n",
       "      <td>...</td>\n",
       "      <td>...</td>\n",
       "      <td>...</td>\n",
       "      <td>...</td>\n",
       "      <td>...</td>\n",
       "      <td>...</td>\n",
       "      <td>...</td>\n",
       "      <td>...</td>\n",
       "      <td>...</td>\n",
       "      <td>...</td>\n",
       "      <td>...</td>\n",
       "      <td>...</td>\n",
       "      <td>...</td>\n",
       "    </tr>\n",
       "    <tr>\n",
       "      <th>105</th>\n",
       "      <td>Toyoto</td>\n",
       "      <td>Sequioa</td>\n",
       "      <td>7Pass</td>\n",
       "      <td>44.395</td>\n",
       "      <td>64.320</td>\n",
       "      <td>RWD</td>\n",
       "      <td>12</td>\n",
       "      <td>18</td>\n",
       "      <td>26.4</td>\n",
       "      <td>205</td>\n",
       "      <td>80</td>\n",
       "      <td>122</td>\n",
       "      <td>75</td>\n",
       "      <td>42</td>\n",
       "      <td>6025</td>\n",
       "      <td>2.7</td>\n",
       "      <td>7.1</td>\n",
       "      <td>15.6</td>\n",
       "      <td>214</td>\n",
       "      <td>Large</td>\n",
       "    </tr>\n",
       "    <tr>\n",
       "      <th>106</th>\n",
       "      <td>Nissan</td>\n",
       "      <td>Pathfinder</td>\n",
       "      <td>7Pass</td>\n",
       "      <td>29.510</td>\n",
       "      <td>43.100</td>\n",
       "      <td>FWD</td>\n",
       "      <td>19</td>\n",
       "      <td>25</td>\n",
       "      <td>19.5</td>\n",
       "      <td>192</td>\n",
       "      <td>73</td>\n",
       "      <td>112</td>\n",
       "      <td>72</td>\n",
       "      <td>40</td>\n",
       "      <td>4505</td>\n",
       "      <td>3.2</td>\n",
       "      <td>7.7</td>\n",
       "      <td>16.0</td>\n",
       "      <td>193</td>\n",
       "      <td>Midsized</td>\n",
       "    </tr>\n",
       "    <tr>\n",
       "      <th>107</th>\n",
       "      <td>Acura</td>\n",
       "      <td>MDX</td>\n",
       "      <td>7Pass</td>\n",
       "      <td>42.865</td>\n",
       "      <td>57.080</td>\n",
       "      <td>FWD</td>\n",
       "      <td>18</td>\n",
       "      <td>27</td>\n",
       "      <td>19.5</td>\n",
       "      <td>194</td>\n",
       "      <td>77</td>\n",
       "      <td>111</td>\n",
       "      <td>68</td>\n",
       "      <td>40</td>\n",
       "      <td>4200</td>\n",
       "      <td>3.0</td>\n",
       "      <td>7.2</td>\n",
       "      <td>15.6</td>\n",
       "      <td>98</td>\n",
       "      <td>Midsized</td>\n",
       "    </tr>\n",
       "    <tr>\n",
       "      <th>108</th>\n",
       "      <td>Hyundai</td>\n",
       "      <td>Santa Fe</td>\n",
       "      <td>7Pass</td>\n",
       "      <td>30.150</td>\n",
       "      <td>36.000</td>\n",
       "      <td>FWD</td>\n",
       "      <td>18</td>\n",
       "      <td>24</td>\n",
       "      <td>19.0</td>\n",
       "      <td>193</td>\n",
       "      <td>74</td>\n",
       "      <td>110</td>\n",
       "      <td>67</td>\n",
       "      <td>39</td>\n",
       "      <td>4210</td>\n",
       "      <td>3.0</td>\n",
       "      <td>7.6</td>\n",
       "      <td>16.1</td>\n",
       "      <td>151</td>\n",
       "      <td>Midsized</td>\n",
       "    </tr>\n",
       "    <tr>\n",
       "      <th>109</th>\n",
       "      <td>GMC</td>\n",
       "      <td>Yukon</td>\n",
       "      <td>7Pass</td>\n",
       "      <td>47.740</td>\n",
       "      <td>67.520</td>\n",
       "      <td>RWD</td>\n",
       "      <td>16</td>\n",
       "      <td>22</td>\n",
       "      <td>26.0</td>\n",
       "      <td>204</td>\n",
       "      <td>81</td>\n",
       "      <td>116</td>\n",
       "      <td>74</td>\n",
       "      <td>41</td>\n",
       "      <td>5635</td>\n",
       "      <td>2.8</td>\n",
       "      <td>7.7</td>\n",
       "      <td>15.9</td>\n",
       "      <td>142</td>\n",
       "      <td>Large</td>\n",
       "    </tr>\n",
       "  </tbody>\n",
       "</table>\n",
       "<p>110 rows × 20 columns</p>\n",
       "</div>"
      ],
      "text/plain": [
       "           Make       Model       Type  LowPrice  HighPrice Drive  CityMPG  \\\n",
       "0     Chevrolet       Spark  Hatchback    12.270     25.560   FWD       30   \n",
       "1       Hyundai      Accent  Hatchback    14.745     17.495   FWD       28   \n",
       "2           Kia         Rio      Sedan    13.990     18.290   FWD       28   \n",
       "3    Mitsubishi      Mirage  Hatchback    12.995     15.395   FWD       37   \n",
       "4        Nissan  Versa Note  Hatchback    14.180     17.960   FWD       31   \n",
       "..          ...         ...        ...       ...        ...   ...      ...   \n",
       "105      Toyoto     Sequioa      7Pass    44.395     64.320   RWD       12   \n",
       "106      Nissan  Pathfinder      7Pass    29.510     43.100   FWD       19   \n",
       "107       Acura         MDX      7Pass    42.865     57.080   FWD       18   \n",
       "108     Hyundai    Santa Fe      7Pass    30.150     36.000   FWD       18   \n",
       "109        GMC        Yukon      7Pass    47.740     67.520   RWD       16   \n",
       "\n",
       "     HwyMPG  FuelCap  Length  Width  Wheelbase  Height  UTurn  Weight  Acc030  \\\n",
       "0        39      9.0     145     63         94      61     34    2345     4.4   \n",
       "1        37     11.4     172     67        101      57     37    2550     3.7   \n",
       "2        36     11.3     172     68        101      57     37    2575     3.5   \n",
       "3        44      9.2     149     66         97      59     32    2085     4.4   \n",
       "4        40     10.9     164     67        102      61     37    2470     4.0   \n",
       "..      ...      ...     ...    ...        ...     ...    ...     ...     ...   \n",
       "105      18     26.4     205     80        122      75     42    6025     2.7   \n",
       "106      25     19.5     192     73        112      72     40    4505     3.2   \n",
       "107      27     19.5     194     77        111      68     40    4200     3.0   \n",
       "108      24     19.0     193     74        110      67     39    4210     3.0   \n",
       "109      22     26.0     204     81        116      74     41    5635     2.8   \n",
       "\n",
       "     Acc060  QtrMile  PageNum      Size  \n",
       "0      12.8     19.4      123     Small  \n",
       "1      10.3     17.8      148     Small  \n",
       "2       9.5     17.3      163     Small  \n",
       "3      12.1     19.0      188     Small  \n",
       "4      10.9     18.2      196     Small  \n",
       "..      ...      ...      ...       ...  \n",
       "105     7.1     15.6      214     Large  \n",
       "106     7.7     16.0      193  Midsized  \n",
       "107     7.2     15.6       98  Midsized  \n",
       "108     7.6     16.1      151  Midsized  \n",
       "109     7.7     15.9      142     Large  \n",
       "\n",
       "[110 rows x 20 columns]"
      ]
     },
     "execution_count": 58,
     "metadata": {},
     "output_type": "execute_result"
    }
   ],
   "source": [
    "table_csv = pd.read_csv('./data/Cars2015.csv')\n",
    "table_csv"
   ]
  },
  {
   "cell_type": "code",
   "execution_count": null,
   "id": "f50e65e4-a9f9-437d-b6ed-2940dea8dc94",
   "metadata": {},
   "outputs": [],
   "source": []
  }
 ],
 "metadata": {
  "kernelspec": {
   "display_name": "Python 3 (ipykernel)",
   "language": "python",
   "name": "python3"
  },
  "language_info": {
   "codemirror_mode": {
    "name": "ipython",
    "version": 3
   },
   "file_extension": ".py",
   "mimetype": "text/x-python",
   "name": "python",
   "nbconvert_exporter": "python",
   "pygments_lexer": "ipython3",
   "version": "3.12.3"
  }
 },
 "nbformat": 4,
 "nbformat_minor": 5
}
