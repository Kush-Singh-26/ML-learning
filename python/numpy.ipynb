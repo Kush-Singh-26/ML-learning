{
 "cells": [
  {
   "cell_type": "markdown",
   "id": "4996c84f-9f15-4e16-b646-616625bc363c",
   "metadata": {},
   "source": [
    "# **Numpy**"
   ]
  },
  {
   "cell_type": "code",
   "execution_count": 1,
   "id": "a8326b4b-a999-41c0-b3cb-bd6986f743f9",
   "metadata": {},
   "outputs": [],
   "source": [
    "import numpy as np"
   ]
  },
  {
   "cell_type": "markdown",
   "id": "06f2a2bf-84a9-40b2-9cfa-b186cef1635d",
   "metadata": {
    "jp-MarkdownHeadingCollapsed": true
   },
   "source": [
    "## Ndaary"
   ]
  },
  {
   "cell_type": "markdown",
   "id": "d90feecd-c09b-44f1-94f5-3af15a05c557",
   "metadata": {},
   "source": [
    "- multi-dimensional array object\n",
    "- consist of 2 parts:\n",
    "    * actual data\n",
    "    * some meta data\n",
    "- 0 indexed\n",
    "- each element in ndarray is an object of data-type object called *dtype*\n",
    "- An item extracted from ndarray, is represented by a Python object of an array scalar type"
   ]
  },
  {
   "cell_type": "markdown",
   "id": "8fcee01a-b72c-45ea-ade2-cd7846764f54",
   "metadata": {},
   "source": [
    "---"
   ]
  },
  {
   "cell_type": "markdown",
   "id": "2d3e87bd-41f8-4bea-952b-a33e070c5248",
   "metadata": {},
   "source": [
    "## Creating a Numpy array"
   ]
  },
  {
   "cell_type": "markdown",
   "id": "8a8422e9-76d0-4d60-bd9b-c0f8a717f6d2",
   "metadata": {},
   "source": [
    "### **single dimensional array** "
   ]
  },
  {
   "cell_type": "markdown",
   "id": "33bc6d2b-574e-40ba-94c4-164042ab5f8e",
   "metadata": {},
   "source": [
    "> `np.array([a,b,c,d,...])`"
   ]
  },
  {
   "cell_type": "code",
   "execution_count": 6,
   "id": "36fa3d43-ea30-440f-a631-301f8e4446b3",
   "metadata": {},
   "outputs": [
    {
     "name": "stdout",
     "output_type": "stream",
     "text": [
      "[1 2 3]\n"
     ]
    }
   ],
   "source": [
    "a = np.array([1,2,3])\n",
    "print(a)"
   ]
  },
  {
   "cell_type": "markdown",
   "id": "25694759-1f36-4c9c-ae65-613991a446f5",
   "metadata": {},
   "source": [
    "### **multi dimensional array**"
   ]
  },
  {
   "cell_type": "markdown",
   "id": "b39abb13-9f26-490e-a05d-1bbdd4e1d8f8",
   "metadata": {},
   "source": [
    "> `np.array([[a,b,c,...], [x,y,...], ...])`"
   ]
  },
  {
   "cell_type": "markdown",
   "id": "0e9945bd-f6f3-4825-b281-802d02773948",
   "metadata": {},
   "source": [
    "> Number of elements in `[ ]` = **number of columns**"
   ]
  },
  {
   "cell_type": "markdown",
   "id": "c6282a04-f369-408d-9e0a-0f35929dc4cb",
   "metadata": {},
   "source": [
    "> `[ ]` represents a row"
   ]
  },
  {
   "cell_type": "markdown",
   "id": "83f5f1a6-edcf-4c82-b7b6-8b20001e7b2e",
   "metadata": {},
   "source": [
    "> Number of [ ] = **number of rows**"
   ]
  },
  {
   "cell_type": "code",
   "execution_count": 10,
   "id": "67243483-3d2e-4de0-9adb-fc16f0f6a8dc",
   "metadata": {},
   "outputs": [
    {
     "name": "stdout",
     "output_type": "stream",
     "text": [
      "[[1 2]\n",
      " [3 4]]\n"
     ]
    }
   ],
   "source": [
    "b = np.array([[1,2], [3,4]])\n",
    "print(b)"
   ]
  },
  {
   "cell_type": "markdown",
   "id": "b18db053-0c94-47be-a902-ada9f8cd92f7",
   "metadata": {},
   "source": [
    "> array of numbers of a specified range"
   ]
  },
  {
   "cell_type": "code",
   "execution_count": 13,
   "id": "a1816acd-fa3f-405d-bc00-3a92660ed966",
   "metadata": {},
   "outputs": [
    {
     "name": "stdout",
     "output_type": "stream",
     "text": [
      "[10 11 12 13 14 15 16 17 18 19 20 21 22 23 24 25 26 27 28 29 30 31 32 33\n",
      " 34 35 36 37 38 39 40 41 42 43 44 45 46 47 48 49]\n"
     ]
    }
   ],
   "source": [
    "arr1 = np.arange(10, 50)\n",
    "print(arr1) # prints form 10 to 50, excluding 50"
   ]
  },
  {
   "cell_type": "markdown",
   "id": "2d014418-b48e-4bda-81d7-d43e9f1d069d",
   "metadata": {},
   "source": [
    "> array of zeroes"
   ]
  },
  {
   "cell_type": "code",
   "execution_count": 15,
   "id": "7e10d653-71dc-4396-b0f2-c6194a18a0e0",
   "metadata": {},
   "outputs": [
    {
     "name": "stdout",
     "output_type": "stream",
     "text": [
      "[0. 0. 0. 0. 0.]\n"
     ]
    }
   ],
   "source": [
    "arr2 = np.zeros(5)\n",
    "print(arr2)"
   ]
  },
  {
   "cell_type": "code",
   "execution_count": 16,
   "id": "867f31e2-6736-4f02-8cfd-dff86d2b5beb",
   "metadata": {},
   "outputs": [
    {
     "name": "stdout",
     "output_type": "stream",
     "text": [
      "[[0. 0. 0. 0. 0.]\n",
      " [0. 0. 0. 0. 0.]\n",
      " [0. 0. 0. 0. 0.]\n",
      " [0. 0. 0. 0. 0.]\n",
      " [0. 0. 0. 0. 0.]]\n"
     ]
    }
   ],
   "source": [
    "arr3 = np.zeros((5,5))\n",
    "print(arr3)"
   ]
  },
  {
   "cell_type": "markdown",
   "id": "99818694-9ebe-4df8-8b95-8c8d335d2227",
   "metadata": {},
   "source": [
    "> Linearly spaced vector `np.linspace(start, stop, step)`"
   ]
  },
  {
   "cell_type": "code",
   "execution_count": 20,
   "id": "45860119-fbff-4d7a-8051-927d8452f4b9",
   "metadata": {},
   "outputs": [
    {
     "name": "stdout",
     "output_type": "stream",
     "text": [
      "[ 0.  5. 10. 15. 20.]\n"
     ]
    }
   ],
   "source": [
    "vector = np.linspace(0,20,5)\n",
    "print(vector)"
   ]
  },
  {
   "cell_type": "markdown",
   "id": "c87debac-727a-4828-ad27-c3cbb753bdf3",
   "metadata": {},
   "source": [
    "> array form existing data type"
   ]
  },
  {
   "cell_type": "markdown",
   "id": "ef8d8d3a-e0d0-4243-9f74-1b079cc43e0f",
   "metadata": {},
   "source": [
    "> `np.asarray(a, dtype = None, order = None)`"
   ]
  },
  {
   "cell_type": "code",
   "execution_count": 22,
   "id": "5a3f3af4-663e-4e1e-abd3-60fe8b4fffa7",
   "metadata": {},
   "outputs": [
    {
     "name": "stdout",
     "output_type": "stream",
     "text": [
      "[1, 2, 3]\n"
     ]
    }
   ],
   "source": [
    "x = [1,2,3]\n",
    "c = np.asarray(x)\n",
    "print(x)"
   ]
  },
  {
   "cell_type": "markdown",
   "id": "21bd392c-1e0a-4a07-b1c9-8d4faf2c2222",
   "metadata": {},
   "source": [
    "> Re-shape array"
   ]
  },
  {
   "cell_type": "code",
   "execution_count": 51,
   "id": "a9a6b86f-be2a-4e97-80d5-2b2812b82c58",
   "metadata": {},
   "outputs": [
    {
     "name": "stdout",
     "output_type": "stream",
     "text": [
      "[[[0. 0.]\n",
      "  [0. 0.]]\n",
      "\n",
      " [[0. 0.]\n",
      "  [0. 0.]]\n",
      "\n",
      " [[0. 0.]\n",
      "  [0. 0.]]]\n"
     ]
    }
   ],
   "source": [
    "arr4 = np.zeros(12)\n",
    "arr41 = arr4.reshape((3,2,2))\n",
    "print(arr41)"
   ]
  },
  {
   "cell_type": "code",
   "execution_count": 52,
   "id": "167848e8-5311-4142-89bd-4fbd3900beea",
   "metadata": {},
   "outputs": [
    {
     "data": {
      "text/plain": [
       "array([[[0., 0.],\n",
       "        [0., 0.],\n",
       "        [0., 0.]],\n",
       "\n",
       "       [[0., 0.],\n",
       "        [0., 0.],\n",
       "        [0., 0.]]])"
      ]
     },
     "execution_count": 52,
     "metadata": {},
     "output_type": "execute_result"
    }
   ],
   "source": [
    "np.reshape(arr4,(2,3,2))"
   ]
  },
  {
   "cell_type": "code",
   "execution_count": 53,
   "id": "76d5012c-c5d5-4ab3-ac10-7525726b60f1",
   "metadata": {},
   "outputs": [
    {
     "data": {
      "text/plain": [
       "array([[[0., 0., 0.],\n",
       "        [0., 0., 0.]],\n",
       "\n",
       "       [[0., 0., 0.],\n",
       "        [0., 0., 0.]]])"
      ]
     },
     "execution_count": 53,
     "metadata": {},
     "output_type": "execute_result"
    }
   ],
   "source": [
    "np.reshape(arr4,(2,2,3))"
   ]
  },
  {
   "cell_type": "markdown",
   "id": "ef8b5ade-c3d6-4fe4-ab07-3eefd613f7de",
   "metadata": {},
   "source": [
    "> Flatten an array"
   ]
  },
  {
   "cell_type": "code",
   "execution_count": 56,
   "id": "dad55aa0-e8e0-4965-884f-4a62404c3e0c",
   "metadata": {},
   "outputs": [
    {
     "data": {
      "text/plain": [
       "array([0., 0., 0., 0., 0., 0., 0., 0., 0., 0., 0., 0.])"
      ]
     },
     "execution_count": 56,
     "metadata": {},
     "output_type": "execute_result"
    }
   ],
   "source": [
    "np.ravel(arr4)"
   ]
  },
  {
   "cell_type": "markdown",
   "id": "996d605f-a8c5-4d32-8858-6a0a0c3a4e6a",
   "metadata": {},
   "source": [
    "---"
   ]
  },
  {
   "cell_type": "markdown",
   "id": "ca0fced2-f192-4458-8bd8-0549d2fb26d4",
   "metadata": {},
   "source": [
    "## Indexing a NumPy Array"
   ]
  },
  {
   "cell_type": "markdown",
   "id": "8c73d238-cea7-4daf-b2f0-6c04db4619d6",
   "metadata": {},
   "source": [
    "- 0 indexing"
   ]
  },
  {
   "cell_type": "code",
   "execution_count": 58,
   "id": "9353f194-4a4f-4756-9223-4768f893dce6",
   "metadata": {},
   "outputs": [
    {
     "name": "stdout",
     "output_type": "stream",
     "text": [
      "10\n"
     ]
    }
   ],
   "source": [
    "arr5 = np.arange(2,20)\n",
    "print(arr5[8])"
   ]
  },
  {
   "cell_type": "markdown",
   "id": "c58bfb10-9e26-4f17-b631-95ad820d3e6c",
   "metadata": {},
   "source": [
    "- Slicing like python"
   ]
  },
  {
   "cell_type": "code",
   "execution_count": 69,
   "id": "e6c7d2d7-9740-4e7a-a34d-1eaa11219869",
   "metadata": {},
   "outputs": [
    {
     "data": {
      "text/plain": [
       "array([ 0,  1,  2,  3,  4,  5,  6,  7,  8,  9, 10, 11, 12, 13, 14, 15, 16,\n",
       "       17, 18, 19])"
      ]
     },
     "execution_count": 69,
     "metadata": {},
     "output_type": "execute_result"
    }
   ],
   "source": [
    "arr6 = np.arange(20)\n",
    "arr6"
   ]
  },
  {
   "cell_type": "code",
   "execution_count": 70,
   "id": "35a31b87-058a-4915-ad75-1f76845c0d4b",
   "metadata": {},
   "outputs": [
    {
     "data": {
      "text/plain": [
       "array([1, 3, 5, 7, 9])"
      ]
     },
     "execution_count": 70,
     "metadata": {},
     "output_type": "execute_result"
    }
   ],
   "source": [
    "arr6[slice(1, 10, 2)]"
   ]
  },
  {
   "cell_type": "code",
   "execution_count": 66,
   "id": "bffdec04-46cb-45c2-81e5-d58d1c6471ad",
   "metadata": {},
   "outputs": [
    {
     "data": {
      "text/plain": [
       "array([ 2,  3,  4,  5,  6,  7,  8,  9, 10, 11, 12, 13, 14, 15, 16, 17, 18,\n",
       "       19])"
      ]
     },
     "execution_count": 66,
     "metadata": {},
     "output_type": "execute_result"
    }
   ],
   "source": [
    "arr6[2:] # starting from index 2"
   ]
  },
  {
   "cell_type": "code",
   "execution_count": 72,
   "id": "d41552cd-b3ff-42ac-a2f3-131c6454f6ed",
   "metadata": {},
   "outputs": [
    {
     "data": {
      "text/plain": [
       "array([ 0,  1,  2,  3,  4,  5,  6,  7,  8,  9, 10, 11, 12, 13, 14])"
      ]
     },
     "execution_count": 72,
     "metadata": {},
     "output_type": "execute_result"
    }
   ],
   "source": [
    "arr6[:15] # till index 15"
   ]
  },
  {
   "cell_type": "code",
   "execution_count": 92,
   "id": "e4a106c0-cc05-4bde-90af-d0c28cf05a5b",
   "metadata": {},
   "outputs": [
    {
     "data": {
      "text/plain": [
       "array([[1, 2, 3],\n",
       "       [4, 5, 6],\n",
       "       [7, 8, 9]])"
      ]
     },
     "execution_count": 92,
     "metadata": {},
     "output_type": "execute_result"
    }
   ],
   "source": [
    "d = np.array([[1,2,3], [4,5,6], [7,8,9]])\n",
    "d"
   ]
  },
  {
   "cell_type": "code",
   "execution_count": 79,
   "id": "a8f8534a-889e-4885-b6fe-6570f44de997",
   "metadata": {},
   "outputs": [
    {
     "data": {
      "text/plain": [
       "array([[1, 2],\n",
       "       [4, 5]])"
      ]
     },
     "execution_count": 79,
     "metadata": {},
     "output_type": "execute_result"
    }
   ],
   "source": [
    "d[0:2, 0:2] # Slice the first two rows and the first two columns"
   ]
  },
  {
   "cell_type": "code",
   "execution_count": 80,
   "id": "5b00a02d-a200-4a78-ae70-672a08bfd30f",
   "metadata": {},
   "outputs": [
    {
     "data": {
      "text/plain": [
       "array([[1, 2, 3],\n",
       "       [4, 5, 6],\n",
       "       [7, 8, 9]])"
      ]
     },
     "execution_count": 80,
     "metadata": {},
     "output_type": "execute_result"
    }
   ],
   "source": [
    "d[:]"
   ]
  },
  {
   "cell_type": "code",
   "execution_count": 83,
   "id": "fe440633-ec8c-4965-ac70-028f00ad5cb0",
   "metadata": {},
   "outputs": [
    {
     "data": {
      "text/plain": [
       "array([[4, 5, 6],\n",
       "       [7, 8, 9]])"
      ]
     },
     "execution_count": 83,
     "metadata": {},
     "output_type": "execute_result"
    }
   ],
   "source": [
    "d[1:]"
   ]
  },
  {
   "cell_type": "code",
   "execution_count": 88,
   "id": "10d8107d-8f7d-4582-8b27-4b2f8390d904",
   "metadata": {},
   "outputs": [
    {
     "data": {
      "text/plain": [
       "array([[1, 2, 3],\n",
       "       [4, 5, 6]])"
      ]
     },
     "execution_count": 88,
     "metadata": {},
     "output_type": "execute_result"
    }
   ],
   "source": [
    "d[:2]"
   ]
  },
  {
   "cell_type": "code",
   "execution_count": 97,
   "id": "2d6ccc17-cd52-4c60-a19c-7550f659c6ee",
   "metadata": {},
   "outputs": [
    {
     "data": {
      "text/plain": [
       "array([[1],\n",
       "       [4]])"
      ]
     },
     "execution_count": 97,
     "metadata": {},
     "output_type": "execute_result"
    }
   ],
   "source": [
    "d[:2,:1]"
   ]
  },
  {
   "cell_type": "markdown",
   "id": "5c6e566d-391d-492f-9e96-f7e9c5d447f6",
   "metadata": {},
   "source": [
    "> `d[slice range row : slice range col]`"
   ]
  },
  {
   "cell_type": "markdown",
   "id": "11e6a656-8c98-45e1-994e-aaa300ca97c5",
   "metadata": {},
   "source": [
    "---"
   ]
  },
  {
   "cell_type": "markdown",
   "id": "4db207b9-d92d-4b81-974b-e80217c30cc8",
   "metadata": {},
   "source": [
    "## Numpy Array Attributes"
   ]
  },
  {
   "cell_type": "code",
   "execution_count": 102,
   "id": "b5ae39d9-a92b-4101-b5df-50efefaeff3f",
   "metadata": {},
   "outputs": [
    {
     "data": {
      "text/plain": [
       "array([[1, 2, 3],\n",
       "       [4, 5, 6],\n",
       "       [7, 8, 9]])"
      ]
     },
     "execution_count": 102,
     "metadata": {},
     "output_type": "execute_result"
    }
   ],
   "source": [
    "d"
   ]
  },
  {
   "cell_type": "code",
   "execution_count": 99,
   "id": "ab45cabf-36cc-444c-9e1a-e89cefbf1b5e",
   "metadata": {},
   "outputs": [
    {
     "name": "stdout",
     "output_type": "stream",
     "text": [
      "(3, 3)\n"
     ]
    }
   ],
   "source": [
    "print(d.shape) # Returns a tuple consisting of array dimensions"
   ]
  },
  {
   "cell_type": "code",
   "execution_count": 100,
   "id": "c0b42362-d8f5-4e6b-bd8c-9efe0f596f48",
   "metadata": {},
   "outputs": [
    {
     "name": "stdout",
     "output_type": "stream",
     "text": [
      "2\n"
     ]
    }
   ],
   "source": [
    "print(d.ndim) # Attribute returns the number of array dimensions"
   ]
  },
  {
   "cell_type": "code",
   "execution_count": 101,
   "id": "a045a9c3-1c7d-4f81-90ca-daf7342ef15b",
   "metadata": {},
   "outputs": [
    {
     "name": "stdout",
     "output_type": "stream",
     "text": [
      "4\n"
     ]
    }
   ],
   "source": [
    "print(a.itemsize) # Returns the length of each element of array in bytes"
   ]
  },
  {
   "cell_type": "code",
   "execution_count": 108,
   "id": "b451e09e-35c8-43b0-a04c-b06fe2dd2b11",
   "metadata": {},
   "outputs": [
    {
     "data": {
      "text/plain": [
       "array([[1, 1],\n",
       "       [1, 1],\n",
       "       [1, 1]])"
      ]
     },
     "execution_count": 108,
     "metadata": {},
     "output_type": "execute_result"
    }
   ],
   "source": [
    "y = np.ones([3,2], dtype = int)\n",
    "y"
   ]
  },
  {
   "cell_type": "markdown",
   "id": "eb6704ca-3a40-4880-af39-d78f4280a5b3",
   "metadata": {},
   "source": [
    "---"
   ]
  },
  {
   "cell_type": "code",
   "execution_count": null,
   "id": "2ee583dc-b27d-4303-9d5d-c0ffd68bccc0",
   "metadata": {},
   "outputs": [],
   "source": []
  }
 ],
 "metadata": {
  "kernelspec": {
   "display_name": "Python 3 (ipykernel)",
   "language": "python",
   "name": "python3"
  },
  "language_info": {
   "codemirror_mode": {
    "name": "ipython",
    "version": 3
   },
   "file_extension": ".py",
   "mimetype": "text/x-python",
   "name": "python",
   "nbconvert_exporter": "python",
   "pygments_lexer": "ipython3",
   "version": "3.12.3"
  }
 },
 "nbformat": 4,
 "nbformat_minor": 5
}
