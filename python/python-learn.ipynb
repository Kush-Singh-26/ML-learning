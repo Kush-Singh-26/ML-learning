{
 "cells": [
  {
   "cell_type": "markdown",
   "id": "eed616bb-7145-4c38-b625-03b7315f3e2f",
   "metadata": {},
   "source": [
    "# Python learning"
   ]
  },
  {
   "cell_type": "code",
   "execution_count": 9,
   "id": "df7316cd-1ca8-4e19-a42d-233ccae63ea7",
   "metadata": {},
   "outputs": [
    {
     "name": "stdout",
     "output_type": "stream",
     "text": [
      "3.4\n",
      "5.0\n"
     ]
    }
   ],
   "source": [
    "print(abs(-3.4))\n",
    "print(abs(3+4j))"
   ]
  },
  {
   "cell_type": "code",
   "execution_count": 4,
   "id": "ed79afc7-586c-4ac6-8ead-8733621043cd",
   "metadata": {},
   "outputs": [
    {
     "data": {
      "text/plain": [
       "str"
      ]
     },
     "execution_count": 4,
     "metadata": {},
     "output_type": "execute_result"
    }
   ],
   "source": [
    "type('a')"
   ]
  },
  {
   "cell_type": "code",
   "execution_count": 5,
   "id": "18bb778a-9059-4d87-af6c-5990abfd38d6",
   "metadata": {},
   "outputs": [
    {
     "data": {
      "text/plain": [
       "True"
      ]
     },
     "execution_count": 5,
     "metadata": {},
     "output_type": "execute_result"
    }
   ],
   "source": [
    "5<8"
   ]
  },
  {
   "cell_type": "code",
   "execution_count": 6,
   "id": "12792567-8313-4ef3-8515-5830aa166281",
   "metadata": {},
   "outputs": [
    {
     "data": {
      "text/plain": [
       "True"
      ]
     },
     "execution_count": 6,
     "metadata": {},
     "output_type": "execute_result"
    }
   ],
   "source": [
    "5<=7"
   ]
  },
  {
   "cell_type": "markdown",
   "id": "50247d7d-6dd9-47ef-83e0-d88b6be3f587",
   "metadata": {},
   "source": [
    "## If else loop:\n",
    "- indentation\n",
    "- use ' : '"
   ]
  },
  {
   "cell_type": "code",
   "execution_count": 17,
   "id": "1ca79d3b-db6a-4313-ba57-cba1da355208",
   "metadata": {},
   "outputs": [
    {
     "name": "stdout",
     "output_type": "stream",
     "text": [
      "odd\n"
     ]
    }
   ],
   "source": [
    "x = 11\n",
    "if(x%2 == 0):\n",
    "    print('even')\n",
    "else:\n",
    "    print('odd')"
   ]
  },
  {
   "cell_type": "markdown",
   "id": "f322ad41-21b5-40dc-abd2-cf85fc4422c3",
   "metadata": {},
   "source": [
    "## Strings : \n",
    "- enclosed in '_'\n",
    "- concatenation\n",
    "- indexing\n",
    "- slicing"
   ]
  },
  {
   "cell_type": "markdown",
   "id": "d1f08bc1-8080-4005-99bf-1ba588166a68",
   "metadata": {},
   "source": [
    "### String Concatenation:"
   ]
  },
  {
   "cell_type": "code",
   "execution_count": 19,
   "id": "dd342bfc-fb5b-483f-b21f-3babed096d3b",
   "metadata": {},
   "outputs": [
    {
     "data": {
      "text/plain": [
       "'abcd'"
      ]
     },
     "execution_count": 19,
     "metadata": {},
     "output_type": "execute_result"
    }
   ],
   "source": [
    "'ab' + 'cd'"
   ]
  },
  {
   "cell_type": "code",
   "execution_count": 20,
   "id": "6d0e7f78-86f2-4d5c-b69c-d5fd48cb1e26",
   "metadata": {},
   "outputs": [
    {
     "data": {
      "text/plain": [
       "'kushkushkush'"
      ]
     },
     "execution_count": 20,
     "metadata": {},
     "output_type": "execute_result"
    }
   ],
   "source": [
    "3 * 'kush'"
   ]
  },
  {
   "cell_type": "code",
   "execution_count": 21,
   "id": "bbb4dd62-9fdb-4f76-83e2-14a62f7418e3",
   "metadata": {},
   "outputs": [
    {
     "data": {
      "text/plain": [
       "4"
      ]
     },
     "execution_count": 21,
     "metadata": {},
     "output_type": "execute_result"
    }
   ],
   "source": [
    "len('kush')"
   ]
  },
  {
   "cell_type": "markdown",
   "id": "f34cca8f-7455-4e8b-9ded-8dcf99e77acb",
   "metadata": {},
   "source": [
    "### String indexing\n",
    "- forward indexing from 0\n",
    "- backward indexing from -1"
   ]
  },
  {
   "cell_type": "code",
   "execution_count": null,
   "id": "d3ac1d3b-d039-4fb9-9dcd-5ddc6a67ab7a",
   "metadata": {},
   "outputs": [],
   "source": [
    "st = \"Kush Singh 26\""
   ]
  },
  {
   "cell_type": "code",
   "execution_count": 23,
   "id": "30084db0-70b6-4ab5-a031-d9cdae8068f3",
   "metadata": {},
   "outputs": [
    {
     "data": {
      "text/plain": [
       "'K'"
      ]
     },
     "execution_count": 23,
     "metadata": {},
     "output_type": "execute_result"
    }
   ],
   "source": [
    "st[0]"
   ]
  },
  {
   "cell_type": "code",
   "execution_count": 24,
   "id": "b24a894e-d7fc-41e1-937c-b15715aba578",
   "metadata": {},
   "outputs": [
    {
     "data": {
      "text/plain": [
       "'6'"
      ]
     },
     "execution_count": 24,
     "metadata": {},
     "output_type": "execute_result"
    }
   ],
   "source": [
    "st[-1]"
   ]
  },
  {
   "cell_type": "code",
   "execution_count": 25,
   "id": "6c3c2e74-d347-4d8a-af59-fbd29b394752",
   "metadata": {},
   "outputs": [],
   "source": [
    "a = \"hackathon\""
   ]
  },
  {
   "cell_type": "code",
   "execution_count": 26,
   "id": "1e3bfd16-b9f6-4d16-af72-692b289c133c",
   "metadata": {},
   "outputs": [
    {
     "data": {
      "text/plain": [
       "'n'"
      ]
     },
     "execution_count": 26,
     "metadata": {},
     "output_type": "execute_result"
    }
   ],
   "source": [
    "a[-1]"
   ]
  },
  {
   "cell_type": "code",
   "execution_count": 27,
   "id": "d9cdfa25-00ec-4c71-ba1b-cf5e956f270a",
   "metadata": {},
   "outputs": [
    {
     "data": {
      "text/plain": [
       "'h'"
      ]
     },
     "execution_count": 27,
     "metadata": {},
     "output_type": "execute_result"
    }
   ],
   "source": [
    "a[0]"
   ]
  },
  {
   "cell_type": "code",
   "execution_count": 28,
   "id": "b757817e-90d3-4772-8658-6c7850991e72",
   "metadata": {},
   "outputs": [
    {
     "ename": "IndexError",
     "evalue": "string index out of range",
     "output_type": "error",
     "traceback": [
      "\u001b[1;31m---------------------------------------------------------------------------\u001b[0m",
      "\u001b[1;31mIndexError\u001b[0m                                Traceback (most recent call last)",
      "Cell \u001b[1;32mIn[28], line 1\u001b[0m\n\u001b[1;32m----> 1\u001b[0m \u001b[43ma\u001b[49m\u001b[43m[\u001b[49m\u001b[38;5;241;43m10\u001b[39;49m\u001b[43m]\u001b[49m\n",
      "\u001b[1;31mIndexError\u001b[0m: string index out of range"
     ]
    }
   ],
   "source": [
    "a[10]"
   ]
  },
  {
   "cell_type": "code",
   "execution_count": 29,
   "id": "4fe4069f-b49a-4776-88ce-1624a9be7627",
   "metadata": {},
   "outputs": [
    {
     "data": {
      "text/plain": [
       "'c'"
      ]
     },
     "execution_count": 29,
     "metadata": {},
     "output_type": "execute_result"
    }
   ],
   "source": [
    "a[2]"
   ]
  },
  {
   "cell_type": "code",
   "execution_count": 30,
   "id": "ff87cd39-7ee5-481e-8958-5d3556dfcae4",
   "metadata": {},
   "outputs": [
    {
     "data": {
      "text/plain": [
       "'t'"
      ]
     },
     "execution_count": 30,
     "metadata": {},
     "output_type": "execute_result"
    }
   ],
   "source": [
    "a[5]"
   ]
  },
  {
   "cell_type": "code",
   "execution_count": 31,
   "id": "64b91f52-b76f-4766-865b-abe947a49511",
   "metadata": {},
   "outputs": [
    {
     "data": {
      "text/plain": [
       "'a'"
      ]
     },
     "execution_count": 31,
     "metadata": {},
     "output_type": "execute_result"
    }
   ],
   "source": [
    "a[-5]"
   ]
  },
  {
   "cell_type": "markdown",
   "id": "b62ba84f-186c-409f-82c9-79fcf6905112",
   "metadata": {},
   "source": [
    "### String Slicing\n",
    "- `x[<start> : <end> : <step>]`\n",
    "- end will not be included"
   ]
  },
  {
   "cell_type": "code",
   "execution_count": 38,
   "id": "6a02cbfa-3e07-4890-92ef-7d8479a70659",
   "metadata": {},
   "outputs": [],
   "source": [
    "x = \"MITx 6.00.1x\""
   ]
  },
  {
   "cell_type": "code",
   "execution_count": 39,
   "id": "242296fa-8f1c-4c31-84ad-bdc9ad900ca0",
   "metadata": {},
   "outputs": [
    {
     "data": {
      "text/plain": [
       "'Tx 6'"
      ]
     },
     "execution_count": 39,
     "metadata": {},
     "output_type": "execute_result"
    }
   ],
   "source": [
    "x[2:6]"
   ]
  },
  {
   "cell_type": "code",
   "execution_count": 40,
   "id": "b3bd4799-7894-4c5a-a642-2f254b32132a",
   "metadata": {},
   "outputs": [
    {
     "data": {
      "text/plain": [
       "'x60.'"
      ]
     },
     "execution_count": 40,
     "metadata": {},
     "output_type": "execute_result"
    }
   ],
   "source": [
    "x[3:10:2]"
   ]
  },
  {
   "cell_type": "code",
   "execution_count": 41,
   "id": "d805620a-03e7-427a-8157-09ebbb9dd5d6",
   "metadata": {},
   "outputs": [
    {
     "data": {
      "text/plain": [
       "'MITx 6.00.1x'"
      ]
     },
     "execution_count": 41,
     "metadata": {},
     "output_type": "execute_result"
    }
   ],
   "source": [
    "x[:]"
   ]
  },
  {
   "cell_type": "code",
   "execution_count": 42,
   "id": "b0dab5a5-0a44-4046-8567-63352f51c628",
   "metadata": {},
   "outputs": [
    {
     "data": {
      "text/plain": [
       "'MT .01'"
      ]
     },
     "execution_count": 42,
     "metadata": {},
     "output_type": "execute_result"
    }
   ],
   "source": [
    "x[::2]"
   ]
  },
  {
   "cell_type": "markdown",
   "id": "7701ca4c-dda4-4d52-bf29-c2679ae40b85",
   "metadata": {},
   "source": [
    "> Starts with first char of string and jumps by 2 till last"
   ]
  },
  {
   "cell_type": "markdown",
   "id": "1256f8c8-f7df-43a3-9075-2bcdf3cffd3f",
   "metadata": {},
   "source": [
    "# Loops"
   ]
  },
  {
   "cell_type": "markdown",
   "id": "e579d6de-45ab-49eb-8dc1-ef30c04c7bae",
   "metadata": {},
   "source": [
    "> while()"
   ]
  },
  {
   "cell_type": "markdown",
   "id": "506bb43e-ecd0-411c-b873-af2f05e22a2d",
   "metadata": {},
   "source": [
    "> for loop"
   ]
  },
  {
   "cell_type": "markdown",
   "id": "984471d8-2b45-42df-8385-66e16aabe5c8",
   "metadata": {},
   "source": [
    "`for(<var> in range (<start>, <stop>, <step>))`"
   ]
  },
  {
   "cell_type": "markdown",
   "id": "411701ca-43da-47fc-a0b4-2032260c57d4",
   "metadata": {},
   "source": [
    "default values:\n",
    "- start = 0\n",
    "- step = 1"
   ]
  },
  {
   "cell_type": "code",
   "execution_count": 46,
   "id": "f87f1427-f4d3-40c8-a903-5afd3abcd8a7",
   "metadata": {},
   "outputs": [
    {
     "name": "stdout",
     "output_type": "stream",
     "text": [
      "b a n a n a "
     ]
    }
   ],
   "source": [
    "for x in \"banana\":\n",
    "  print(x, end = ' ')"
   ]
  },
  {
   "cell_type": "markdown",
   "id": "da2606a0-1562-4e9f-bb87-5ccf68e4dc55",
   "metadata": {},
   "source": [
    "## Inputs and Output"
   ]
  },
  {
   "cell_type": "code",
   "execution_count": 49,
   "id": "4d8c10af-ca78-4be3-a34d-cd596d65871b",
   "metadata": {},
   "outputs": [
    {
     "name": "stdin",
     "output_type": "stream",
     "text": [
      "Enter your name kush\n"
     ]
    },
    {
     "name": "stdout",
     "output_type": "stream",
     "text": [
      "Your name is kush\n"
     ]
    }
   ],
   "source": [
    "x = input(\"Enter your name\")\n",
    "print(\"Your name is \" + x)"
   ]
  },
  {
   "cell_type": "markdown",
   "id": "781211c7-f922-4b50-8b64-a91de3351a7e",
   "metadata": {},
   "source": [
    "## Functions"
   ]
  },
  {
   "cell_type": "code",
   "execution_count": 51,
   "id": "a30a4a28-1cdb-4a8a-9714-72da6f19d683",
   "metadata": {},
   "outputs": [],
   "source": [
    "def is_even(i):\n",
    "    return i%2 == 0\n"
   ]
  },
  {
   "cell_type": "code",
   "execution_count": 52,
   "id": "64a0aeb8-2b00-48d8-8625-cdc0938e8cba",
   "metadata": {},
   "outputs": [
    {
     "data": {
      "text/plain": [
       "False"
      ]
     },
     "execution_count": 52,
     "metadata": {},
     "output_type": "execute_result"
    }
   ],
   "source": [
    "is_even(5)"
   ]
  },
  {
   "cell_type": "code",
   "execution_count": 53,
   "id": "1151638d-85d1-4a45-93f0-01fa3c1050a7",
   "metadata": {},
   "outputs": [
    {
     "data": {
      "text/plain": [
       "True"
      ]
     },
     "execution_count": 53,
     "metadata": {},
     "output_type": "execute_result"
    }
   ],
   "source": [
    "is_even(200)"
   ]
  },
  {
   "cell_type": "markdown",
   "id": "9d68c729-58b1-4dbc-95df-645a7bdc0f96",
   "metadata": {},
   "source": [
    "## Tuples"
   ]
  },
  {
   "cell_type": "markdown",
   "id": "99f7bb8a-f962-4451-9084-3246667f9939",
   "metadata": {},
   "source": [
    "- immutable\n",
    "- for 1 element tupple \" , \" must be used.\n",
    "- `te = (\"kush\",)`"
   ]
  },
  {
   "cell_type": "code",
   "execution_count": 54,
   "id": "ae20058f-5534-4664-820c-15350c39a772",
   "metadata": {},
   "outputs": [],
   "source": [
    "te = (2, 'and', 3)"
   ]
  },
  {
   "cell_type": "code",
   "execution_count": 55,
   "id": "38691508-541c-44c2-a95f-9ee1530b7754",
   "metadata": {},
   "outputs": [
    {
     "data": {
      "text/plain": [
       "('and',)"
      ]
     },
     "execution_count": 55,
     "metadata": {},
     "output_type": "execute_result"
    }
   ],
   "source": [
    "te[1:2]"
   ]
  },
  {
   "cell_type": "code",
   "execution_count": 56,
   "id": "1579d80a-9b58-4457-835f-a62f833d236c",
   "metadata": {},
   "outputs": [
    {
     "data": {
      "text/plain": [
       "(2, 'and', 3)"
      ]
     },
     "execution_count": 56,
     "metadata": {},
     "output_type": "execute_result"
    }
   ],
   "source": [
    "te[:]"
   ]
  },
  {
   "cell_type": "markdown",
   "id": "58a7c812-2721-4e7f-9976-dcff57a7c4e8",
   "metadata": {},
   "source": [
    "## Lists"
   ]
  },
  {
   "cell_type": "markdown",
   "id": "a50b9e1e-c7ca-49da-a5be-e03f17474467",
   "metadata": {},
   "source": [
    "- muttable"
   ]
  },
  {
   "cell_type": "code",
   "execution_count": 63,
   "id": "92e99ae0-2378-4476-8d8c-53c0bf1560ec",
   "metadata": {},
   "outputs": [],
   "source": [
    "l = [1,2,3]"
   ]
  },
  {
   "cell_type": "code",
   "execution_count": 64,
   "id": "71a11460-8fb4-4997-b10e-a63fa5c84df7",
   "metadata": {},
   "outputs": [
    {
     "data": {
      "text/plain": [
       "2"
      ]
     },
     "execution_count": 64,
     "metadata": {},
     "output_type": "execute_result"
    }
   ],
   "source": [
    "l[1]"
   ]
  },
  {
   "cell_type": "markdown",
   "id": "b658fa13-f822-42f4-b3ad-c8b879c3dde8",
   "metadata": {},
   "source": [
    "### Swap"
   ]
  },
  {
   "cell_type": "code",
   "execution_count": 57,
   "id": "37f444a7-f691-4439-a2cd-6b1c8109fb3b",
   "metadata": {},
   "outputs": [],
   "source": [
    "x = 3\n",
    "y = 2"
   ]
  },
  {
   "cell_type": "code",
   "execution_count": 58,
   "id": "60b57563-cf57-408b-999d-c6037b55af65",
   "metadata": {},
   "outputs": [],
   "source": [
    "temp = x\n",
    "x = y\n",
    "y = temp"
   ]
  },
  {
   "cell_type": "code",
   "execution_count": 59,
   "id": "074cf3b7-958d-4be9-b2fd-1cefd8e2d55d",
   "metadata": {},
   "outputs": [
    {
     "name": "stdout",
     "output_type": "stream",
     "text": [
      "2 3\n"
     ]
    }
   ],
   "source": [
    "print (x , y)"
   ]
  },
  {
   "cell_type": "code",
   "execution_count": 60,
   "id": "7a610f61-45f8-49f3-9676-9f744d6749f2",
   "metadata": {},
   "outputs": [],
   "source": [
    "x = 1 \n",
    "y = 10"
   ]
  },
  {
   "cell_type": "code",
   "execution_count": 61,
   "id": "153b9f71-46e2-4052-b593-25b81047f52d",
   "metadata": {},
   "outputs": [],
   "source": [
    "(x,y) = (y,x)"
   ]
  },
  {
   "cell_type": "code",
   "execution_count": 62,
   "id": "4c8fc661-8f3b-4cfb-bfe5-bc3759731223",
   "metadata": {},
   "outputs": [
    {
     "name": "stdout",
     "output_type": "stream",
     "text": [
      "10 1\n"
     ]
    }
   ],
   "source": [
    "print(x , y)"
   ]
  },
  {
   "cell_type": "code",
   "execution_count": null,
   "id": "afff31ea-f688-4c51-acbc-35a8084cf79e",
   "metadata": {},
   "outputs": [],
   "source": []
  }
 ],
 "metadata": {
  "kernelspec": {
   "display_name": "Python 3 (ipykernel)",
   "language": "python",
   "name": "python3"
  },
  "language_info": {
   "codemirror_mode": {
    "name": "ipython",
    "version": 3
   },
   "file_extension": ".py",
   "mimetype": "text/x-python",
   "name": "python",
   "nbconvert_exporter": "python",
   "pygments_lexer": "ipython3",
   "version": "3.12.3"
  }
 },
 "nbformat": 4,
 "nbformat_minor": 5
}
