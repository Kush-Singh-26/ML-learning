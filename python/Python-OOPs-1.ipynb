{
 "cells": [
  {
   "cell_type": "markdown",
   "id": "5222fe6c-d8e2-4f00-9619-5e26afd69e78",
   "metadata": {},
   "source": [
    "# Object Oriented Programming"
   ]
  },
  {
   "cell_type": "markdown",
   "id": "c5f15970-8766-4a66-88ff-dcdc24259f7f",
   "metadata": {
    "jp-MarkdownHeadingCollapsed": true
   },
   "source": [
    "#### OOP is a programming style that uses **objects** and **classes** to structure software programs.\n",
    "- organizes software design around data, or objects, rather than functions and logic.\n",
    "- ### An **object** can be defined as a data field that has unique attributes and behavior. "
   ]
  },
  {
   "cell_type": "markdown",
   "id": "a3dd774e-cfd9-4d4a-9a74-3c79f39ca506",
   "metadata": {},
   "source": [
    "## Class"
   ]
  },
  {
   "cell_type": "markdown",
   "id": "be42d2a4-bee9-4b38-945a-c6b57f4b6f6f",
   "metadata": {},
   "source": [
    "- blueprint for creating objects\n",
    "- defines a set of *attributes* and *methods*\n",
    "- a class encapsulates data (attributes) and behaviors (methods) and can be instantiated multiple times to create multiple objects.\n",
    "- Each object is a unique instance that can hold different values in its attributes."
   ]
  },
  {
   "cell_type": "code",
   "execution_count": 1,
   "id": "96d9e988-766e-4d43-afa0-e923d0f166f1",
   "metadata": {},
   "outputs": [],
   "source": [
    "class myClass:\n",
    "    # class attribute\n",
    "    attribute = \"This is a class attribute\"\n",
    "\n",
    "    #initializer / instance attributes\n",
    "    def __init__(self,value):\n",
    "        self.instance_attribute = value\n",
    "    # Method\n",
    "    def my_method(self):\n",
    "        return f\"My instance attribute is: {self.instance_attribute}\"\n",
    "    "
   ]
  },
  {
   "cell_type": "markdown",
   "id": "50e15dac-fc16-4930-b946-cae301c23894",
   "metadata": {},
   "source": [
    "---"
   ]
  },
  {
   "cell_type": "markdown",
   "id": "c3aedff8-2b5c-4e46-810b-b3b667ab4020",
   "metadata": {},
   "source": [
    "## Objects"
   ]
  },
  {
   "cell_type": "markdown",
   "id": "3b2aba68-e5ff-4681-aba3-673de6115971",
   "metadata": {},
   "source": [
    "- Instance of a class\n",
    "- When a class is defined, only the description for the object is defined; therefore, no memory or storage is allocated.\n",
    "- The object is created from the class when it is **instantiated**.\n",
    "- Each object can have different values for its attributes, distinguishing it from other objects of the same class.\n",
    "- Creating an object is as simple as calling the class"
   ]
  },
  {
   "cell_type": "code",
   "execution_count": 3,
   "id": "8c1b0bd0-ed23-4c71-94c4-c866a6ca8456",
   "metadata": {},
   "outputs": [
    {
     "name": "stdout",
     "output_type": "stream",
     "text": [
      "Hello, Object!\n",
      "My instance attribute is: Hello, Object!\n"
     ]
    }
   ],
   "source": [
    "my_object = myClass(\"Hello, Object!\")\n",
    "print(my_object.instance_attribute)  # Accessing an instance attribute\n",
    "print(my_object.my_method())  # Calling a method on the objectoo"
   ]
  },
  {
   "cell_type": "markdown",
   "id": "00367a80-6107-4b80-93ee-d13d54de01dd",
   "metadata": {},
   "source": [
    "---"
   ]
  },
  {
   "cell_type": "markdown",
   "id": "3e0f80c7-45cc-4582-9a9a-8fe31366ae8e",
   "metadata": {},
   "source": [
    "## Attributes\n"
   ]
  },
  {
   "cell_type": "markdown",
   "id": "c7df5a44-40b1-4b14-b5f0-c97cb3efffb6",
   "metadata": {},
   "source": [
    "- variables that belong to a class or an instance of a class.\n",
    "- represent the properties or characteristics of an object that help to distinguish it from other objects\n",
    "- Attributes can be accessed using dot notation\n",
    "- 2 types : ***Class Attributes*** and ***Instance Attributes***"
   ]
  },
  {
   "cell_type": "markdown",
   "id": "dbff3e8a-e406-44d8-8592-89c1e82ee712",
   "metadata": {},
   "source": [
    "### Class Attributes\n",
    "- Class attributes are variables that are shared across all instances of a class.\n",
    "- They belong to the class itself, not to any individual instance.\n",
    "- This means that if you change the value of a class attribute, the change is reflected across all instances of the class.\n",
    "- define global constants that are relevant to the class."
   ]
  },
  {
   "cell_type": "code",
   "execution_count": 5,
   "id": "0d5e3b38-acc3-4618-90de-05d25db40e0d",
   "metadata": {},
   "outputs": [
    {
     "name": "stdout",
     "output_type": "stream",
     "text": [
      "Canis familiaris\n"
     ]
    }
   ],
   "source": [
    "class Dog:\n",
    "    species = \"Canis familiaris\"  # Class attribute\n",
    "\n",
    "    def __init__(self, name, age):\n",
    "        self.name = name  # Instance attribute\n",
    "        self.age = age  # Instance attribute\n",
    "\n",
    "# Accessing a class attribute\n",
    "print(Dog.species)  # Output: Canis familiaris"
   ]
  },
  {
   "cell_type": "code",
   "execution_count": 6,
   "id": "924c5cf7-6521-42de-85bf-7484ef8cc3c8",
   "metadata": {},
   "outputs": [
    {
     "name": "stdout",
     "output_type": "stream",
     "text": [
      "Canis familiaris\n",
      "Canis familiaris\n"
     ]
    }
   ],
   "source": [
    "# Class attributes are shared by all instances\n",
    "dog1 = Dog(\"Buddy\", 5)\n",
    "dog2 = Dog(\"Molly\", 3)\n",
    "print(dog1.species)  # Output: Canis familiaris\n",
    "print(dog2.species)  # Output: Canis familiaris"
   ]
  },
  {
   "cell_type": "markdown",
   "id": "045a9194-46d2-4c68-abbe-dc507dcb39d9",
   "metadata": {},
   "source": [
    "### Instance Attributes\n",
    "- Instance attributes are owned by the specific instances of a class.\n",
    "- This means that for each object or instance of a class, the instance attributes are different (unless explicitly set to the same value).\n",
    "- Instance attributes are usually defined within the `__init__` method, also known as the initializer or constructor\n",
    "- they are prefixed with `self` to denote that they belong to the particular instance of the class"
   ]
  },
  {
   "cell_type": "code",
   "execution_count": 8,
   "id": "6ad62a9e-cfee-46d9-b2c1-2d517fce1429",
   "metadata": {},
   "outputs": [],
   "source": [
    "class Dog:\n",
    "    # Class attribute\n",
    "    species = \"Canis familiaris\"\n",
    "\n",
    "    def __init__(self, name, age):\n",
    "        self.name = name  # Instance attribute\n",
    "        self.age = age  # Instance attribute\n"
   ]
  },
  {
   "cell_type": "code",
   "execution_count": 9,
   "id": "8268cb7f-30eb-47bd-9c64-fc813bf9edf6",
   "metadata": {},
   "outputs": [
    {
     "name": "stdout",
     "output_type": "stream",
     "text": [
      "Buddy\n",
      "Canis familiaris\n",
      "Molly\n",
      "Canis familiaris\n"
     ]
    }
   ],
   "source": [
    "# Each instance has its own attributes\n",
    "dog1 = Dog(\"Buddy\", 5)\n",
    "dog2 = Dog(\"Molly\", 3)\n",
    "\n",
    "print(dog1.name)  \n",
    "print(dog1.species)\n",
    "print(dog2.name)  \n",
    "print(dog2.species)"
   ]
  },
  {
   "cell_type": "markdown",
   "id": "40ca00a2-a4bc-4e2b-a3f7-9f641ce2c70a",
   "metadata": {},
   "source": [
    "---"
   ]
  },
  {
   "cell_type": "markdown",
   "id": "b4f46937-8465-43a2-b866-ec43d8ed55c9",
   "metadata": {},
   "source": [
    "## Methods"
   ]
  },
  {
   "cell_type": "markdown",
   "id": "c254be2d-44aa-4bf1-81d4-5f3f07d5677c",
   "metadata": {},
   "source": [
    "- functions that are defined within a class and are used to define the behaviors of an object.\n",
    "- They can operate on the data (attributes) that are contained by the class and can be accessed using the object of the class. "
   ]
  },
  {
   "cell_type": "markdown",
   "id": "0ad95350-bf02-4560-955d-ebd08063cacc",
   "metadata": {},
   "source": [
    "### Types of methods in python:\n",
    "- **Instance Methods**: Operate on an instance of the class and have access to the instance (`self`) and its attributes.\n",
    "- **Class Methods**: Operate on the class itself, rather than instances of the class. They are marked with a `@classmethod` decorator and take cls as the first parameter.\n",
    "- **Static Methods**: Do not operate on the instance or the class. They are marked with a `@staticmethod` decorator and do not take self or cls as the first parameter. They are used for utility functions that do not access class or instance data."
   ]
  },
  {
   "cell_type": "code",
   "execution_count": 1,
   "id": "689e9197-9b4b-4e9f-b74c-37454c1a302a",
   "metadata": {
    "editable": true,
    "slideshow": {
     "slide_type": ""
    },
    "tags": []
   },
   "outputs": [],
   "source": [
    "class Car:\n",
    "    # Class attribute\n",
    "    total_cars = 0\n",
    "\n",
    "    def __init__(self, make, model, year):\n",
    "        self.make = make\n",
    "        self.model = model\n",
    "        self.year = year\n",
    "        Car.total_cars += 1  # Increment the total number of cars each time a new car is created\n",
    "\n",
    "    # Instance method\n",
    "    def description(self):\n",
    "        \"\"\"Returns a description of the car.\"\"\"\n",
    "        return f\"{self.year} {self.make} {self.model}\"\n",
    "\n",
    "    # Class method\n",
    "    @classmethod\n",
    "    def total_cars_created(cls):\n",
    "        \"\"\"Returns the total number of cars created.\"\"\"\n",
    "        return f\"Total cars created: {cls.total_cars}\"\n",
    "\n",
    "    # Static method\n",
    "    @staticmethod\n",
    "    def is_vintage(year):\n",
    "        \"\"\"Determines if a car is vintage based on its year.\"\"\"\n",
    "        return year < 1990"
   ]
  },
  {
   "cell_type": "code",
   "execution_count": 2,
   "id": "bdf70750-f817-4aea-ad38-f7f67452afd6",
   "metadata": {},
   "outputs": [],
   "source": [
    "# Creating car objects\n",
    "car1 = Car(\"Toyota\", \"Corolla\", 1985)\n",
    "car2 = Car(\"Ford\", \"Mustang\", 1968)"
   ]
  },
  {
   "cell_type": "code",
   "execution_count": 4,
   "id": "6006f08e-8ef3-49d4-8fbc-d034ad24d933",
   "metadata": {},
   "outputs": [
    {
     "name": "stdout",
     "output_type": "stream",
     "text": [
      "1985 Toyota Corolla\n",
      "1968 Ford Mustang\n"
     ]
    }
   ],
   "source": [
    "# Using an instance method\n",
    "print(car1.description()) \n",
    "print(car2.description())  "
   ]
  },
  {
   "cell_type": "code",
   "execution_count": 10,
   "id": "96666dbd-a687-4ac1-b896-55a06ef76163",
   "metadata": {},
   "outputs": [
    {
     "name": "stdout",
     "output_type": "stream",
     "text": [
      "Total cars created: 2\n"
     ]
    }
   ],
   "source": [
    "# Using a class method\n",
    "print(Car.total_cars_created()) "
   ]
  },
  {
   "cell_type": "code",
   "execution_count": 11,
   "id": "098664b4-bae3-49d3-860d-abadafc3cc54",
   "metadata": {},
   "outputs": [
    {
     "name": "stdout",
     "output_type": "stream",
     "text": [
      "True\n",
      "False\n"
     ]
    }
   ],
   "source": [
    "# Using a static method\n",
    "print(Car.is_vintage(1985))\n",
    "print(Car.is_vintage(1995))"
   ]
  },
  {
   "cell_type": "markdown",
   "id": "c0eb35b5-ed32-4492-9752-84efc7b59a71",
   "metadata": {},
   "source": [
    "#### Instance method\n",
    "- functions defined inside a class that operate on an instance of that class\n",
    "- They can access and modify the state of the instance\n",
    "- they include a reference to the instance itself, typically named `self`\n",
    "- **The first parameter of the method must be `self`**"
   ]
  },
  {
   "cell_type": "markdown",
   "id": "1e0320af-5c16-4bf0-bb52-794485bc7134",
   "metadata": {},
   "source": [
    "#### CLass method\n",
    "- define functions that operate on the class itself, rather than on instances of the class.\n",
    "-  These methods follow the `@classmethod` decorator and are distinguished by the use of `cls` as their first parameter\n",
    "-  Class methods have access only to the class itself and its attributes; they do not have access to instance-level data."
   ]
  },
  {
   "cell_type": "markdown",
   "id": "76c2a284-16d7-43ee-b5a7-6af466e77e70",
   "metadata": {},
   "source": [
    "#### Static method\n",
    "- neither operates on an instance of the class (like instance methods) nor on the class itself (like class methods)\n",
    "- They are utility functions that belong to a class but do not access or modify class or instance-specific data\n",
    "- Static methods are marked with the `@staticmethod` decorator and do not take first parameter like `self` or `cls`."
   ]
  }
 ],
 "metadata": {
  "kernelspec": {
   "display_name": "Python 3 (ipykernel)",
   "language": "python",
   "name": "python3"
  },
  "language_info": {
   "codemirror_mode": {
    "name": "ipython",
    "version": 3
   },
   "file_extension": ".py",
   "mimetype": "text/x-python",
   "name": "python",
   "nbconvert_exporter": "python",
   "pygments_lexer": "ipython3",
   "version": "3.12.3"
  }
 },
 "nbformat": 4,
 "nbformat_minor": 5
}
